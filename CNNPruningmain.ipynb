{
  "nbformat": 4,
  "nbformat_minor": 0,
  "metadata": {
    "colab": {
      "name": "CNNmain.ipynb",
      "provenance": [],
      "collapsed_sections": []
    },
    "kernelspec": {
      "name": "python3",
      "display_name": "Python 3"
    },
    "accelerator": "GPU"
  },
  "cells": [
    {
      "cell_type": "markdown",
      "metadata": {
        "id": "1miUoB4oiUak"
      },
      "source": [
        "#Importing Functions"
      ]
    },
    {
      "cell_type": "code",
      "metadata": {
        "id": "Gm_qOCm9-7Ty"
      },
      "source": [
        "# Tensorflow version 2.4.1"
      ],
      "execution_count": null,
      "outputs": []
    },
    {
      "cell_type": "code",
      "metadata": {
        "id": "NPdC7ARm-96-"
      },
      "source": [
        "%tensorflow_version 2.x"
      ],
      "execution_count": null,
      "outputs": []
    },
    {
      "cell_type": "code",
      "metadata": {
        "colab": {
          "base_uri": "https://localhost:8080/",
          "height": 35
        },
        "id": "rBmvausn-RDV",
        "outputId": "3e56a8a2-d69f-42aa-a012-5e5bd0a266cb"
      },
      "source": [
        "import tensorflow\n",
        "tensorflow.__version__"
      ],
      "execution_count": null,
      "outputs": [
        {
          "output_type": "execute_result",
          "data": {
            "application/vnd.google.colaboratory.intrinsic+json": {
              "type": "string"
            },
            "text/plain": [
              "'2.5.0'"
            ]
          },
          "metadata": {
            "tags": []
          },
          "execution_count": 8
        }
      ]
    },
    {
      "cell_type": "code",
      "metadata": {
        "id": "o_Hq0VUMvJx9"
      },
      "source": [
        "from numpy import mean\n",
        "from numpy import std\n",
        "from numpy import dstack\n",
        "from pandas import read_csv\n",
        "from scipy import ndimage\n",
        "import numpy as np\n",
        "from tensorflow import keras\n",
        "from matplotlib import pyplot as plt\n",
        "from keras.models import Sequential\n",
        "from keras.layers import Dense\n",
        "from keras.layers import Flatten\n",
        "from keras.layers import Dropout\n",
        "from keras.layers.convolutional import Conv1D,Conv2D\n",
        "from keras.layers.convolutional import MaxPooling1D,MaxPooling2D\n",
        "from keras.layers import BatchNormalization,ReLU,GlobalAveragePooling1D,MaxPooling1D,LSTM,TimeDistributed,GlobalAveragePooling2D\n",
        "#from keras.utils import to_categorical\n",
        "from keras.models import save_model, load_model\n",
        "from sklearn.preprocessing import StandardScaler\n",
        "\n",
        "from tensorflow.keras.utils import  plot_model\n",
        "from keras.models import Model,save_model,load_model\n",
        "from keras.layers import Input\n",
        "from keras.layers.merge import concatenate\n",
        "\n",
        "from datetime import datetime\n",
        "from packaging import version\n",
        "\n",
        "import os\n",
        "import tempfile\n",
        "import os\n",
        "import tensorflow as tf\n",
        "from tensorflow import expand_dims\n",
        "from tensorflow import keras\n",
        "%load_ext tensorboard"
      ],
      "execution_count": null,
      "outputs": []
    },
    {
      "cell_type": "code",
      "metadata": {
        "id": "p8tRrh2Q2gnB",
        "colab": {
          "base_uri": "https://localhost:8080/"
        },
        "outputId": "5eebb245-02cd-421b-a465-c34ab4fed813"
      },
      "source": [
        "!pip install -U tensorboard_plugin_profile"
      ],
      "execution_count": null,
      "outputs": [
        {
          "output_type": "stream",
          "text": [
            "Collecting tensorboard_plugin_profile\n",
            "\u001b[?25l  Downloading https://files.pythonhosted.org/packages/d1/4e/0bf160776e5dacdba5105a580aa57a2bd37c1cc4faa1bd7695d82e7d6ae7/tensorboard_plugin_profile-2.4.0-py3-none-any.whl (1.2MB)\n",
            "\u001b[K     |████████████████████████████████| 1.2MB 3.0MB/s \n",
            "\u001b[?25hRequirement already satisfied, skipping upgrade: setuptools>=41.0.0 in /usr/local/lib/python3.7/dist-packages (from tensorboard_plugin_profile) (57.0.0)\n",
            "Requirement already satisfied, skipping upgrade: werkzeug>=0.11.15 in /usr/local/lib/python3.7/dist-packages (from tensorboard_plugin_profile) (1.0.1)\n",
            "Requirement already satisfied, skipping upgrade: six>=1.10.0 in /usr/local/lib/python3.7/dist-packages (from tensorboard_plugin_profile) (1.15.0)\n",
            "Collecting gviz-api>=1.9.0\n",
            "  Downloading https://files.pythonhosted.org/packages/8c/8f/c6f16235a16b3dc4efdcf34dbc93b3b6f678b88176dbd6a36c75d678888f/gviz_api-1.9.0-py2.py3-none-any.whl\n",
            "Requirement already satisfied, skipping upgrade: protobuf>=3.6.0 in /usr/local/lib/python3.7/dist-packages (from tensorboard_plugin_profile) (3.12.4)\n",
            "Installing collected packages: gviz-api, tensorboard-plugin-profile\n",
            "Successfully installed gviz-api-1.9.0 tensorboard-plugin-profile-2.4.0\n"
          ],
          "name": "stdout"
        }
      ]
    },
    {
      "cell_type": "markdown",
      "metadata": {
        "id": "INpMNpCdimZr"
      },
      "source": [
        "#Loading Dataset"
      ]
    },
    {
      "cell_type": "code",
      "metadata": {
        "id": "4e2irnh55lB6",
        "colab": {
          "base_uri": "https://localhost:8080/"
        },
        "outputId": "7d929ead-da53-4f50-d1fd-f1f0d6eafb87"
      },
      "source": [
        "!wget https://archive.ics.uci.edu/ml/machine-learning-databases/00240/UCI%20HAR%20Dataset.zip\n",
        "import zipfile\n",
        "with zipfile.ZipFile('/content/UCI HAR Dataset.zip', 'r') as zip_ref:\n",
        "    zip_ref.extractall('')"
      ],
      "execution_count": null,
      "outputs": [
        {
          "output_type": "stream",
          "text": [
            "--2021-06-09 06:08:59--  https://archive.ics.uci.edu/ml/machine-learning-databases/00240/UCI%20HAR%20Dataset.zip\n",
            "Resolving archive.ics.uci.edu (archive.ics.uci.edu)... 128.195.10.252\n",
            "Connecting to archive.ics.uci.edu (archive.ics.uci.edu)|128.195.10.252|:443... connected.\n",
            "HTTP request sent, awaiting response... 200 OK\n",
            "Length: 60999314 (58M) [application/x-httpd-php]\n",
            "Saving to: ‘UCI HAR Dataset.zip’\n",
            "\n",
            "UCI HAR Dataset.zip 100%[===================>]  58.17M  41.4MB/s    in 1.4s    \n",
            "\n",
            "2021-06-09 06:09:01 (41.4 MB/s) - ‘UCI HAR Dataset.zip’ saved [60999314/60999314]\n",
            "\n"
          ],
          "name": "stdout"
        }
      ]
    },
    {
      "cell_type": "code",
      "metadata": {
        "id": "4vYcHaInEDoK"
      },
      "source": [
        "def load_file(filepath):\n",
        "  dataframe=read_csv(filepath,header=None,delim_whitespace=True)\n",
        "  return dataframe.values"
      ],
      "execution_count": null,
      "outputs": []
    },
    {
      "cell_type": "code",
      "metadata": {
        "id": "r7akEplVIDyX"
      },
      "source": [
        "def load_group(filenames,prefix=''):\n",
        "  loaded=list()\n",
        "  for name in filenames:\n",
        "    data=load_file(prefix+name)\n",
        "    loaded.append(data)\n",
        "  loaded=dstack(loaded)\n",
        "  return loaded"
      ],
      "execution_count": null,
      "outputs": []
    },
    {
      "cell_type": "code",
      "metadata": {
        "id": "cKHYErTsIYac"
      },
      "source": [
        "def load_dataset_group(group,prefix=''):\n",
        "  filepath=prefix+group+'/Inertial Signals/'\n",
        "  filenames=list()\n",
        "  filenames+=['total_acc_x_'+group+'.txt','total_acc_y_'+group+'.txt','total_acc_z_'+group+'.txt']\n",
        "  filenames+=['body_acc_x_'+group+'.txt','body_acc_y_'+group+'.txt','body_acc_z_'+group+'.txt']\n",
        "  filenames+=['body_gyro_x_'+group+'.txt','body_gyro_y_'+group+'.txt','body_gyro_z_'+group+'.txt']\n",
        "  X=load_group(filenames,filepath)\n",
        "  y=load_file(prefix+group+'/y_'+group+'.txt')\n",
        "  return (X,y)\n"
      ],
      "execution_count": null,
      "outputs": []
    },
    {
      "cell_type": "code",
      "metadata": {
        "id": "SuWfdQHuJt9f"
      },
      "source": [
        "def load_dataset(prefix=''):\n",
        "  trainX,trainy=load_dataset_group('train',prefix+'UCI HAR Dataset/')\n",
        "  print(trainX.shape,trainy.shape)\n",
        "  testX,testy=load_dataset_group('test',prefix+'UCI HAR Dataset/')\n",
        "  print(testX.shape,testy.shape)\n",
        "  trainy=trainy-1\n",
        "  testy=testy-1\n",
        "  trainy=tf.compat.v1.keras.utils.to_categorical(trainy)\n",
        "  testy=tf.compat.v1.keras.utils.to_categorical(testy)\n",
        "  print(trainX.shape, trainy.shape, testX.shape, testy.shape)\n",
        "  return trainX, trainy, testX, testy"
      ],
      "execution_count": null,
      "outputs": []
    },
    {
      "cell_type": "code",
      "metadata": {
        "id": "C8Mtbf_PSH87"
      },
      "source": [
        "def scale_data(trainX, testX):\n",
        "\t# remove overlap\n",
        "\tcut = int(trainX.shape[1] / 2)\n",
        "\tlongX = trainX[:, -cut:, :]\n",
        "\t# flatten windows\n",
        "\tlongX = longX.reshape((longX.shape[0] * longX.shape[1], longX.shape[2]))\n",
        "\t# flatten train and test\n",
        "\tflatTrainX = trainX.reshape((trainX.shape[0] * trainX.shape[1], trainX.shape[2]))\n",
        "\tflatTestX = testX.reshape((testX.shape[0] * testX.shape[1], testX.shape[2]))\n",
        "\t# standardize\n",
        "\n",
        "\ts = StandardScaler()\n",
        "\t\t# fit on training data\n",
        "\ts.fit(longX)\n",
        "\t\t# apply to training and test data\n",
        "\tlongX = s.transform(longX)\n",
        "\tflatTrainX = s.transform(flatTrainX)\n",
        "\tflatTestX = s.transform(flatTestX)\n",
        "\t# reshape\n",
        "\tflatTrainX = flatTrainX.reshape((trainX.shape))\n",
        "\tflatTestX = flatTestX.reshape((testX.shape))\n",
        "\treturn flatTrainX, flatTestX"
      ],
      "execution_count": null,
      "outputs": []
    },
    {
      "cell_type": "markdown",
      "metadata": {
        "id": "2dow8qJO4myQ"
      },
      "source": [
        "##Function for model size"
      ]
    },
    {
      "cell_type": "code",
      "metadata": {
        "id": "ytB8g1p74mEU"
      },
      "source": [
        "def get_zipped_model_size(file):\n",
        "  # Returns size of gzipped model, in bytes.\n",
        "  import os\n",
        "  import zipfile\n",
        "\n",
        "  zipped_file = file+'.zip'\n",
        "  with zipfile.ZipFile(zipped_file, 'w', compression=zipfile.ZIP_DEFLATED) as f:\n",
        "    f.write(file)\n",
        "\n",
        "  return os.path.getsize(zipped_file)"
      ],
      "execution_count": null,
      "outputs": []
    },
    {
      "cell_type": "markdown",
      "metadata": {
        "id": "LOWuN0ZroUDR"
      },
      "source": [
        "##1. CNN MODEL\n"
      ]
    },
    {
      "cell_type": "code",
      "metadata": {
        "id": "N7BkQ1pYraEO",
        "colab": {
          "base_uri": "https://localhost:8080/"
        },
        "outputId": "762c3218-f7ba-477c-8fde-d4a850d96615"
      },
      "source": [
        "trainX,trainy,testX,testy=load_dataset()\n",
        "verbose,epochs,batch_size=1,500,32 #Epoch 500\n",
        "n_timesteps,n_features,n_outputs=trainX.shape[1],trainX.shape[2],trainy.shape[1]\n",
        "print('n step: ', n_timesteps)\n",
        "print('features: ',n_features)\n",
        "trainX,testX=scale_data(trainX,testX)\n",
        "print(trainX.shape)"
      ],
      "execution_count": null,
      "outputs": [
        {
          "output_type": "stream",
          "text": [
            "(7352, 128, 9) (7352, 1)\n",
            "(2947, 128, 9) (2947, 1)\n",
            "(7352, 128, 9) (7352, 6) (2947, 128, 9) (2947, 6)\n",
            "n step:  128\n",
            "features:  9\n",
            "(7352, 128, 9)\n"
          ],
          "name": "stdout"
        }
      ]
    },
    {
      "cell_type": "code",
      "metadata": {
        "id": "yciMN9WVMkpd"
      },
      "source": [
        "'''\n",
        "inputs=keras.Input(shape=(n_timesteps,n_features))\n",
        "\n",
        "\n",
        "conv_1=tf.keras.layers.Conv1D(filters=64,kernel_size=5,strides=2,activation='relu')(inputs)\n",
        "maxpool_1=tf.keras.layers.MaxPooling1D(pool_size=2,strides=2)(conv_1)\n",
        "\n",
        "conv_2=tf.keras.layers.Conv1D(filters=128,kernel_size=3,strides=1,activation='relu')(maxpool_1)\n",
        "maxpool_2=tf.keras.layers.MaxPooling1D(pool_size=2,strides=1)(conv_2)\n",
        "\n",
        "conv_3=tf.keras.layers.Conv1D(filters=32,kernel_size=3,strides=1,activation='relu')(maxpool_2)\n",
        "avg_pooling=tf.keras.layers.GlobalAveragePooling1D()(conv_3)\n",
        "batch_norm=tf.keras.layers.BatchNormalization()(avg_pooling)\n",
        "\n",
        "output=tf.keras.layers.Dense(n_outputs,activation='softmax')(batch_norm)\n",
        "model=tf.keras.Model(inputs=inputs,outputs=output)\n",
        "'''\n",
        "inputs=keras.Input(shape=(n_timesteps,n_features))\n",
        "\n",
        "\n",
        "conv_1=tf.keras.layers.Conv1D(filters=64,kernel_size=5,strides=2,activation='relu')(inputs)\n",
        "maxpool_1=tf.keras.layers.MaxPooling1D(pool_size=2,strides=2)(conv_1)\n",
        "\n",
        "conv_2=tf.keras.layers.Conv1D(filters=128,kernel_size=3,strides=1,activation='relu')(maxpool_1)\n",
        "maxpool_2=tf.keras.layers.MaxPooling1D(pool_size=2,strides=1)(conv_2)\n",
        "\n",
        "conv_3=tf.keras.layers.Conv1D(filters=32,kernel_size=3,strides=1,activation='relu')(maxpool_2)\n",
        "avg_pooling=tf.keras.layers.GlobalAveragePooling1D()(conv_3)\n",
        "batch_norm=tf.keras.layers.BatchNormalization()(avg_pooling)\n",
        "\n",
        "output=tf.keras.layers.Dense(n_outputs,activation='softmax')(batch_norm)\n",
        "model=tf.keras.Model(inputs=inputs,outputs=output)"
      ],
      "execution_count": null,
      "outputs": []
    },
    {
      "cell_type": "code",
      "metadata": {
        "id": "UEENq8DHseVI"
      },
      "source": [
        "plot_model(model, show_shapes=True, to_file='CNN_Model.png')\n",
        "model.compile(loss='categorical_crossentropy',optimizer='adam',metrics=['accuracy'])"
      ],
      "execution_count": null,
      "outputs": []
    },
    {
      "cell_type": "code",
      "metadata": {
        "id": "W2vsYhbK2tvT",
        "colab": {
          "base_uri": "https://localhost:8080/"
        },
        "outputId": "a3dee082-c213-4ef2-995a-c00682bbce35"
      },
      "source": [
        "logs = \"logs/\" + datetime.now().strftime(\"%Y%m%d-%H%M%S\")\n",
        "\n",
        "tboard_callback = tf.keras.callbacks.TensorBoard(log_dir = logs,\n",
        "                                                 histogram_freq = 1,\n",
        "                                                 )\n",
        "\n",
        "model.fit(trainX,trainy,epochs=epochs,batch_size=batch_size,verbose=verbose,callbacks=[tboard_callback])\n",
        "model.summary()\n"
      ],
      "execution_count": null,
      "outputs": [
        {
          "output_type": "stream",
          "text": [
            "Epoch 1/5\n",
            "230/230 [==============================] - 32s 7ms/step - loss: 0.2481 - accuracy: 0.9248\n",
            "Epoch 2/5\n",
            "230/230 [==============================] - 1s 4ms/step - loss: 0.1218 - accuracy: 0.9533\n",
            "Epoch 3/5\n",
            "230/230 [==============================] - 1s 4ms/step - loss: 0.1091 - accuracy: 0.9542\n",
            "Epoch 4/5\n",
            "230/230 [==============================] - 1s 4ms/step - loss: 0.0971 - accuracy: 0.9576\n",
            "Epoch 5/5\n",
            "230/230 [==============================] - 1s 4ms/step - loss: 0.0891 - accuracy: 0.9640\n",
            "Model: \"model\"\n",
            "_________________________________________________________________\n",
            "Layer (type)                 Output Shape              Param #   \n",
            "=================================================================\n",
            "input_1 (InputLayer)         [(None, 128, 9)]          0         \n",
            "_________________________________________________________________\n",
            "conv1d (Conv1D)              (None, 62, 64)            2944      \n",
            "_________________________________________________________________\n",
            "max_pooling1d (MaxPooling1D) (None, 31, 64)            0         \n",
            "_________________________________________________________________\n",
            "conv1d_1 (Conv1D)            (None, 29, 128)           24704     \n",
            "_________________________________________________________________\n",
            "max_pooling1d_1 (MaxPooling1 (None, 28, 128)           0         \n",
            "_________________________________________________________________\n",
            "conv1d_2 (Conv1D)            (None, 26, 32)            12320     \n",
            "_________________________________________________________________\n",
            "global_average_pooling1d (Gl (None, 32)                0         \n",
            "_________________________________________________________________\n",
            "batch_normalization (BatchNo (None, 32)                128       \n",
            "_________________________________________________________________\n",
            "dense (Dense)                (None, 6)                 198       \n",
            "=================================================================\n",
            "Total params: 40,294\n",
            "Trainable params: 40,230\n",
            "Non-trainable params: 64\n",
            "_________________________________________________________________\n"
          ],
          "name": "stdout"
        }
      ]
    },
    {
      "cell_type": "markdown",
      "metadata": {
        "id": "1LlRSQSg5x-G"
      },
      "source": [
        "###CNN MODEL ACCURACY"
      ]
    },
    {
      "cell_type": "code",
      "metadata": {
        "id": "blVs1T8vtfQD",
        "colab": {
          "base_uri": "https://localhost:8080/"
        },
        "outputId": "e67d41d1-cf12-4406-a144-3607d1639fe9"
      },
      "source": [
        "%time\n",
        "print(testX.shape,testy.shape)\n",
        "base_loss,base_accuracy=model.evaluate(testX,testy,batch_size=batch_size,verbose=1)\n",
        "\n",
        "cnn_file='CNN_Model.h5'\n",
        "  \n",
        "tf.keras.models.save_model(model, cnn_file, include_optimizer=False)\n",
        "print('model saved at ', cnn_file)\n",
        "#score,keras_file=evaluate_model(trainX,trainy,testX,testy)\n",
        "score=base_accuracy*100\n",
        "print('>{:f}'.format(score))\n",
        "print('>{:.2f}'.format(base_loss))"
      ],
      "execution_count": null,
      "outputs": [
        {
          "output_type": "stream",
          "text": [
            "CPU times: user 2 µs, sys: 1 µs, total: 3 µs\n",
            "Wall time: 5.01 µs\n",
            "(2947, 128, 9) (2947, 6)\n",
            "93/93 [==============================] - 0s 3ms/step - loss: 0.2542 - accuracy: 0.9253\n",
            "model saved at  CNN_Model.h5\n",
            ">92.534781\n",
            ">0.25\n"
          ],
          "name": "stdout"
        }
      ]
    },
    {
      "cell_type": "markdown",
      "metadata": {
        "id": "Ls6bWax459OF"
      },
      "source": [
        "##CNN MODEL SIZE"
      ]
    },
    {
      "cell_type": "code",
      "metadata": {
        "id": "7nyxtXsQA1Xg",
        "colab": {
          "base_uri": "https://localhost:8080/"
        },
        "outputId": "bda4e3a1-5660-4cd7-efc1-46607697f422"
      },
      "source": [
        "%time\n",
        "predict=model.predict(testX)"
      ],
      "execution_count": null,
      "outputs": [
        {
          "output_type": "stream",
          "text": [
            "CPU times: user 2 µs, sys: 1 µs, total: 3 µs\n",
            "Wall time: 5.72 µs\n"
          ],
          "name": "stdout"
        }
      ]
    },
    {
      "cell_type": "code",
      "metadata": {
        "id": "mzSgfywk3YX-",
        "colab": {
          "base_uri": "https://localhost:8080/"
        },
        "outputId": "e74edf8e-b4a2-4878-eb1a-96363a9919ac"
      },
      "source": [
        "cnn_model_size=get_zipped_model_size(cnn_file)\n",
        "print(\" SIze of my cnn model: {:.2f}MB\".format(cnn_model_size/1000))"
      ],
      "execution_count": null,
      "outputs": [
        {
          "output_type": "stream",
          "text": [
            " SIze of my cnn model: 152.12MB\n"
          ],
          "name": "stdout"
        }
      ]
    },
    {
      "cell_type": "code",
      "metadata": {
        "id": "6fswY0LP6vdj",
        "colab": {
          "base_uri": "https://localhost:8080/"
        },
        "outputId": "24c9d605-b4cc-4d95-d280-3916109c6e30"
      },
      "source": [
        "\n",
        "model=keras.models.load_model('CNN_Model.h5')\n",
        "model.compile(loss='categorical_crossentropy',optimizer='adam',metrics=['accuracy'])\n",
        "base_loss,base_accuracy=model.evaluate(testX,testy,batch_size=batch_size,verbose=0)\n",
        "print(base_loss,base_accuracy)"
      ],
      "execution_count": null,
      "outputs": [
        {
          "output_type": "stream",
          "text": [
            "WARNING:tensorflow:No training configuration found in the save file, so the model was *not* compiled. Compile it manually.\n",
            "0.25421640276908875 0.9253478050231934\n"
          ],
          "name": "stdout"
        }
      ]
    },
    {
      "cell_type": "code",
      "metadata": {
        "id": "w0Vldri_p2iG",
        "colab": {
          "base_uri": "https://localhost:8080/"
        },
        "outputId": "850136d5-ddaa-4877-fb71-822ce30caa0d"
      },
      "source": [
        "!pip install tensorflow_model_optimization"
      ],
      "execution_count": null,
      "outputs": [
        {
          "output_type": "stream",
          "text": [
            "Collecting tensorflow_model_optimization\n",
            "\u001b[?25l  Downloading https://files.pythonhosted.org/packages/55/38/4fd48ea1bfcb0b6e36d949025200426fe9c3a8bfae029f0973d85518fa5a/tensorflow_model_optimization-0.5.0-py2.py3-none-any.whl (172kB)\n",
            "\r\u001b[K     |██                              | 10kB 21.2MB/s eta 0:00:01\r\u001b[K     |███▉                            | 20kB 6.1MB/s eta 0:00:01\r\u001b[K     |█████▊                          | 30kB 4.4MB/s eta 0:00:01\r\u001b[K     |███████▋                        | 40kB 4.2MB/s eta 0:00:01\r\u001b[K     |█████████▌                      | 51kB 2.2MB/s eta 0:00:01\r\u001b[K     |███████████▍                    | 61kB 2.5MB/s eta 0:00:01\r\u001b[K     |█████████████▎                  | 71kB 2.7MB/s eta 0:00:01\r\u001b[K     |███████████████▏                | 81kB 2.8MB/s eta 0:00:01\r\u001b[K     |█████████████████               | 92kB 3.0MB/s eta 0:00:01\r\u001b[K     |███████████████████             | 102kB 3.1MB/s eta 0:00:01\r\u001b[K     |████████████████████▉           | 112kB 3.1MB/s eta 0:00:01\r\u001b[K     |██████████████████████▊         | 122kB 3.1MB/s eta 0:00:01\r\u001b[K     |████████████████████████▊       | 133kB 3.1MB/s eta 0:00:01\r\u001b[K     |██████████████████████████▋     | 143kB 3.1MB/s eta 0:00:01\r\u001b[K     |████████████████████████████▌   | 153kB 3.1MB/s eta 0:00:01\r\u001b[K     |██████████████████████████████▍ | 163kB 3.1MB/s eta 0:00:01\r\u001b[K     |████████████████████████████████| 174kB 3.1MB/s \n",
            "\u001b[?25hRequirement already satisfied: numpy~=1.14 in /usr/local/lib/python3.7/dist-packages (from tensorflow_model_optimization) (1.19.5)\n",
            "Requirement already satisfied: six~=1.10 in /usr/local/lib/python3.7/dist-packages (from tensorflow_model_optimization) (1.15.0)\n",
            "Requirement already satisfied: dm-tree~=0.1.1 in /usr/local/lib/python3.7/dist-packages (from tensorflow_model_optimization) (0.1.6)\n",
            "Installing collected packages: tensorflow-model-optimization\n",
            "Successfully installed tensorflow-model-optimization-0.5.0\n"
          ],
          "name": "stdout"
        }
      ]
    },
    {
      "cell_type": "code",
      "metadata": {
        "id": "LL7ACLxHvVa_"
      },
      "source": [
        "import tensorflow_model_optimization as tfmot\n",
        "import numpy as np"
      ],
      "execution_count": null,
      "outputs": []
    },
    {
      "cell_type": "code",
      "metadata": {
        "id": "Kfjk8gd7Un-o"
      },
      "source": [
        "# %tensorboard --logdir={logdir}"
      ],
      "execution_count": null,
      "outputs": []
    },
    {
      "cell_type": "markdown",
      "metadata": {
        "id": "Sh4x5Etfq5_P"
      },
      "source": [
        "##Post-Training Quantization[FLOAT16] on CNN model (tflite model)\n"
      ]
    },
    {
      "cell_type": "code",
      "metadata": {
        "id": "5VrXvlcaQ2_F",
        "colab": {
          "base_uri": "https://localhost:8080/"
        },
        "outputId": "69f5eb43-cab0-4706-efe2-7cdc1baaed85"
      },
      "source": [
        "converter = tf.lite.TFLiteConverter.from_keras_model(model)\n",
        "converter.optimizations = [tf.lite.Optimize.DEFAULT]\n",
        "converter.target_spec.supported_types = [tf.float16]\n",
        "quantized_cnn_model = converter.convert()\n",
        "\n",
        "quantized_cnn_tflite_file = 'quantized_cnn_model.tflite'\n",
        "\n",
        "with open(quantized_cnn_tflite_file, 'wb') as f:\n",
        "  f.write(quantized_cnn_model)"
      ],
      "execution_count": null,
      "outputs": [
        {
          "output_type": "stream",
          "text": [
            "INFO:tensorflow:Assets written to: /tmp/tmpj8h1hdzn/assets\n"
          ],
          "name": "stdout"
        }
      ]
    },
    {
      "cell_type": "markdown",
      "metadata": {
        "id": "xqIQvI6xRMmb"
      },
      "source": [
        "##Size of post-quantized CNN model"
      ]
    },
    {
      "cell_type": "code",
      "metadata": {
        "id": "xzdX8tOkRH8S",
        "colab": {
          "base_uri": "https://localhost:8080/"
        },
        "outputId": "d6fd240b-0cb4-4305-f4a1-e9e6398e1f9a"
      },
      "source": [
        "quantized_cnn_model_size=get_zipped_model_size(quantized_cnn_tflite_file)\n",
        "print(\" Size of quantized cnn model: {:.2f}MB\".format(quantized_cnn_model_size/1000))"
      ],
      "execution_count": null,
      "outputs": [
        {
          "output_type": "stream",
          "text": [
            " Size of quantized cnn model: 76.15MB\n"
          ],
          "name": "stdout"
        }
      ]
    },
    {
      "cell_type": "markdown",
      "metadata": {
        "id": "0pSN2jc8SRFM"
      },
      "source": [
        "##ACCURACY OF QUANTIZED MODEL"
      ]
    },
    {
      "cell_type": "code",
      "metadata": {
        "id": "vKylQdpqUhvw"
      },
      "source": [
        "def evaluate_model(interpreter):\n",
        "# Get input and output tensors.\n",
        "  input_details = interpreter.get_input_details()\n",
        "  output_details = interpreter.get_output_details()\n",
        "  print(input_details)\n",
        "  print(output_details)\n",
        "  print(\"== Input details ==\")\n",
        "  print(\"shape:\", input_details[0]['shape'])\n",
        "  print(\"type:\", input_details[0]['dtype'])\n",
        "  print(\"type:\", input_details[0]['index'])\n",
        "  print(\"\\n== Output details ==\")\n",
        "  print(\"shape:\", output_details[0]['shape'])\n",
        "  print(\"type:\", output_details[0]['dtype'])\n",
        "  print(\"type:\", output_details[0]['index'])\n",
        "\n",
        "\n",
        "\n",
        "  input_shape = input_details[0]['index']\n",
        "  output_shape = output_details[0]['index']\n",
        "\n",
        "  # Run predictions on every image in the \"test\" dataset.\n",
        "  prediction= []\n",
        "  print(testX.shape)\n",
        "  for i,test_data in enumerate(testX):\n",
        "    # Pre-processing: add batch dimension and convert to float32 to match with\n",
        "    # the model's input data format.\n",
        "\n",
        "    test_data = np.expand_dims(test_data, axis=0).astype(np.float32)\n",
        "  \n",
        "    interpreter.set_tensor(input_shape, test_data)\n",
        "\n",
        "    # Run inference.\n",
        "    interpreter.invoke()\n",
        "\n",
        "    # Post-processing: remove batch dimension and find the digit with highest\n",
        "    # probability.\n",
        "    output = interpreter.get_tensor(output_shape)\n",
        "    digit = np.argmax(output,axis=1)\n",
        "    prediction.append(digit)\n",
        "\n",
        "  # Compare prediction results with ground truth labels to calculate accuracy.\n",
        "  \n",
        "  print('\\n')\n",
        "  prediction=np.array(prediction)\n",
        "  print(prediction.shape)\n",
        "  print(testy.shape)\n",
        "  labels=np.argmax(testy,axis=-1)\n",
        "  accuracy_count=0\n",
        "  for i in range(len(prediction)):\n",
        "    \n",
        "    if(prediction[i]==labels[i]).any():\n",
        "      accuracy_count+=1\n",
        "  \n",
        "  accuracy=(accuracy_count/len(prediction))*100\n",
        "\n",
        "  return accuracy"
      ],
      "execution_count": null,
      "outputs": []
    },
    {
      "cell_type": "code",
      "metadata": {
        "id": "92lKFioJUovC",
        "colab": {
          "base_uri": "https://localhost:8080/"
        },
        "outputId": "7009f3ae-c7c5-480a-ce92-9bb461aff310"
      },
      "source": [
        "\n",
        "interpreter=tf.lite.Interpreter(model_content=quantized_cnn_model)\n",
        "interpreter.allocate_tensors()\n",
        "\n",
        "cnn_tflite_accuracy = evaluate_model(interpreter)\n",
        "\n",
        "print('Base TFLite test_accuracy:', cnn_tflite_accuracy)"
      ],
      "execution_count": null,
      "outputs": [
        {
          "output_type": "stream",
          "text": [
            "[{'name': 'input_1', 'index': 0, 'shape': array([  1, 128,   9], dtype=int32), 'shape_signature': array([ -1, 128,   9], dtype=int32), 'dtype': <class 'numpy.float32'>, 'quantization': (0.0, 0), 'quantization_parameters': {'scales': array([], dtype=float32), 'zero_points': array([], dtype=int32), 'quantized_dimension': 0}, 'sparsity_parameters': {}}]\n",
            "[{'name': 'Identity', 'index': 36, 'shape': array([1, 6], dtype=int32), 'shape_signature': array([-1,  6], dtype=int32), 'dtype': <class 'numpy.float32'>, 'quantization': (0.0, 0), 'quantization_parameters': {'scales': array([], dtype=float32), 'zero_points': array([], dtype=int32), 'quantized_dimension': 0}, 'sparsity_parameters': {}}]\n",
            "== Input details ==\n",
            "shape: [  1 128   9]\n",
            "type: <class 'numpy.float32'>\n",
            "type: 0\n",
            "\n",
            "== Output details ==\n",
            "shape: [1 6]\n",
            "type: <class 'numpy.float32'>\n",
            "type: 36\n",
            "(2947, 128, 9)\n",
            "\n",
            "\n",
            "(2947, 1)\n",
            "(2947, 6)\n",
            "Base TFLite test_accuracy: 92.53478113335596\n"
          ],
          "name": "stdout"
        }
      ]
    },
    {
      "cell_type": "markdown",
      "metadata": {
        "id": "YmAm-qN3k-ra"
      },
      "source": [
        "#ADD QUANTIZATION AWARE TRAINING"
      ]
    },
    {
      "cell_type": "markdown",
      "metadata": {
        "id": "XzzBGFp926_N"
      },
      "source": [
        "#2.PRUNING CNN MODEL"
      ]
    },
    {
      "cell_type": "code",
      "metadata": {
        "id": "N_cbkqwJqLty",
        "colab": {
          "base_uri": "https://localhost:8080/"
        },
        "outputId": "eca411b4-6772-4033-91f9-a6c7d5b52c03"
      },
      "source": [
        "prune_low_mag=tfmot.sparsity.keras.prune_low_magnitude\n",
        "batch_size=32\n",
        "epoch=5\n",
        "validation_split=0.3\n",
        "\n",
        "num=trainX.shape[0]*(1-validation_split)\n",
        "end_step=np.ceil(num / batch_size).astype(np.int32) * epoch\n",
        "pruning_params={\n",
        "    'pruning_schedule':tfmot.sparsity.keras.PolynomialDecay\n",
        "    (initial_sparsity=0.2,\n",
        "     final_sparsity=0.8,\n",
        "     begin_step=0,\n",
        "     end_step=end_step)\n",
        "}\n",
        "\n",
        "pruned_model=prune_low_mag(model,**pruning_params)\n",
        "\n",
        "pruned_model.compile(optimizer='adam',loss=tf.keras.losses.CategoricalCrossentropy(from_logits=True),metrics=['accuracy'])\n",
        "\n",
        "pruned_model.summary()\n",
        "\n",
        "logdir = tempfile.mkdtemp()\n",
        "\n",
        "callbacks = [\n",
        "  tfmot.sparsity.keras.UpdatePruningStep(),\n",
        "  tfmot.sparsity.keras.PruningSummaries(log_dir=logdir),\n",
        "]\n",
        "\n",
        "pruned_model.fit(trainX, trainy,\n",
        "                  batch_size=batch_size, epochs=epoch, validation_split=validation_split,\n",
        "                  callbacks=callbacks)\n",
        "#Model accuracy\n",
        "model_for_pruning_loss, model_for_pruning_accuracy = pruned_model.evaluate(\n",
        "   testX, testy, verbose=0)\n",
        "print(model_for_pruning_loss,model_for_pruning_accuracy)"
      ],
      "execution_count": null,
      "outputs": [
        {
          "output_type": "stream",
          "text": [
            "/usr/local/lib/python3.7/dist-packages/tensorflow/python/keras/engine/base_layer.py:2191: UserWarning: `layer.add_variable` is deprecated and will be removed in a future version. Please use `layer.add_weight` method instead.\n",
            "  warnings.warn('`layer.add_variable` is deprecated and '\n"
          ],
          "name": "stderr"
        },
        {
          "output_type": "stream",
          "text": [
            "Model: \"model\"\n",
            "_________________________________________________________________\n",
            "Layer (type)                 Output Shape              Param #   \n",
            "=================================================================\n",
            "input_1 (InputLayer)         [(None, 128, 9)]          0         \n",
            "_________________________________________________________________\n",
            "prune_low_magnitude_conv1d ( (None, 62, 64)            5826      \n",
            "_________________________________________________________________\n",
            "prune_low_magnitude_max_pool (None, 31, 64)            1         \n",
            "_________________________________________________________________\n",
            "prune_low_magnitude_conv1d_1 (None, 29, 128)           49282     \n",
            "_________________________________________________________________\n",
            "prune_low_magnitude_max_pool (None, 28, 128)           1         \n",
            "_________________________________________________________________\n",
            "prune_low_magnitude_conv1d_2 (None, 26, 32)            24610     \n",
            "_________________________________________________________________\n",
            "prune_low_magnitude_global_a (None, 32)                1         \n",
            "_________________________________________________________________\n",
            "prune_low_magnitude_batch_no (None, 32)                129       \n",
            "_________________________________________________________________\n",
            "prune_low_magnitude_dense (P (None, 6)                 392       \n",
            "=================================================================\n",
            "Total params: 80,242\n",
            "Trainable params: 40,230\n",
            "Non-trainable params: 40,012\n",
            "_________________________________________________________________\n",
            "Epoch 1/5\n",
            "WARNING:tensorflow:From /usr/local/lib/python3.7/dist-packages/tensorflow/python/ops/array_ops.py:5049: calling gather (from tensorflow.python.ops.array_ops) with validate_indices is deprecated and will be removed in a future version.\n",
            "Instructions for updating:\n",
            "The `validate_indices` argument has no effect. Indices are always validated on CPU and never validated on GPU.\n"
          ],
          "name": "stdout"
        },
        {
          "output_type": "stream",
          "text": [
            "WARNING:tensorflow:From /usr/local/lib/python3.7/dist-packages/tensorflow/python/ops/array_ops.py:5049: calling gather (from tensorflow.python.ops.array_ops) with validate_indices is deprecated and will be removed in a future version.\n",
            "Instructions for updating:\n",
            "The `validate_indices` argument has no effect. Indices are always validated on CPU and never validated on GPU.\n",
            "/usr/local/lib/python3.7/dist-packages/tensorflow/python/keras/backend.py:4870: UserWarning: \"`categorical_crossentropy` received `from_logits=True`, but the `output` argument was produced by a sigmoid or softmax activation and thus does not represent logits. Was this intended?\"\n",
            "  '\"`categorical_crossentropy` received `from_logits=True`, but '\n"
          ],
          "name": "stderr"
        },
        {
          "output_type": "stream",
          "text": [
            "  3/161 [..............................] - ETA: 45s - loss: 0.0637 - accuracy: 0.9896WARNING:tensorflow:Callback method `on_train_batch_begin` is slow compared to the batch time (batch time: 0.0070s vs `on_train_batch_begin` time: 0.0316s). Check your callbacks.\n"
          ],
          "name": "stdout"
        },
        {
          "output_type": "stream",
          "text": [
            "WARNING:tensorflow:Callback method `on_train_batch_begin` is slow compared to the batch time (batch time: 0.0070s vs `on_train_batch_begin` time: 0.0316s). Check your callbacks.\n"
          ],
          "name": "stderr"
        },
        {
          "output_type": "stream",
          "text": [
            "WARNING:tensorflow:Callback method `on_train_batch_end` is slow compared to the batch time (batch time: 0.0070s vs `on_train_batch_end` time: 0.0633s). Check your callbacks.\n"
          ],
          "name": "stdout"
        },
        {
          "output_type": "stream",
          "text": [
            "WARNING:tensorflow:Callback method `on_train_batch_end` is slow compared to the batch time (batch time: 0.0070s vs `on_train_batch_end` time: 0.0633s). Check your callbacks.\n"
          ],
          "name": "stderr"
        },
        {
          "output_type": "stream",
          "text": [
            "161/161 [==============================] - 6s 17ms/step - loss: 0.0816 - accuracy: 0.9642 - val_loss: 0.1299 - val_accuracy: 0.9569\n",
            "Epoch 2/5\n",
            "161/161 [==============================] - 2s 11ms/step - loss: 0.0804 - accuracy: 0.9660 - val_loss: 0.1431 - val_accuracy: 0.9556\n",
            "Epoch 3/5\n",
            "161/161 [==============================] - 2s 12ms/step - loss: 0.0823 - accuracy: 0.9654 - val_loss: 0.1504 - val_accuracy: 0.9551\n",
            "Epoch 4/5\n",
            "161/161 [==============================] - 2s 12ms/step - loss: 0.0945 - accuracy: 0.9631 - val_loss: 0.1437 - val_accuracy: 0.9578\n",
            "Epoch 5/5\n",
            "161/161 [==============================] - 2s 12ms/step - loss: 0.0685 - accuracy: 0.9697 - val_loss: 0.1337 - val_accuracy: 0.9646\n",
            "0.1687275916337967 0.9385815858840942\n"
          ],
          "name": "stdout"
        }
      ]
    },
    {
      "cell_type": "code",
      "metadata": {
        "id": "3PrKkYSYVSA7",
        "colab": {
          "base_uri": "https://localhost:8080/"
        },
        "outputId": "df08da33-e60a-44ec-f0f8-bd8c478dbb3b"
      },
      "source": [
        "#model size\n",
        "pruned_model = tfmot.sparsity.keras.strip_pruning(pruned_model)\n",
        "pruned_cnn_file = ('prune_cnn.h5')\n",
        "tf.keras.models.save_model(pruned_model, pruned_cnn_file, include_optimizer=False)\n",
        "print('Saved pruned Keras model to:', pruned_cnn_file)\n",
        "pruned_cnn_model_size=get_zipped_model_size(pruned_cnn_file)\n",
        "print(\" SIze of pruned cnn model: {:.2f}MB\".format(pruned_cnn_model_size/1000))"
      ],
      "execution_count": null,
      "outputs": [
        {
          "output_type": "stream",
          "text": [
            "WARNING:tensorflow:Compiled the loaded model, but the compiled metrics have yet to be built. `model.compile_metrics` will be empty until you train or evaluate the model.\n"
          ],
          "name": "stdout"
        },
        {
          "output_type": "stream",
          "text": [
            "WARNING:tensorflow:Compiled the loaded model, but the compiled metrics have yet to be built. `model.compile_metrics` will be empty until you train or evaluate the model.\n"
          ],
          "name": "stderr"
        },
        {
          "output_type": "stream",
          "text": [
            "Saved pruned Keras model to: prune_cnn.h5\n",
            " SIze of pruned cnn model: 52.30MB\n"
          ],
          "name": "stdout"
        }
      ]
    },
    {
      "cell_type": "markdown",
      "metadata": {
        "id": "P_sqlQtVY4-C"
      },
      "source": [
        "#CONVERTING PRUNED MODEL TO TFLITE "
      ]
    },
    {
      "cell_type": "code",
      "metadata": {
        "id": "kjiR99cpY4Pm",
        "colab": {
          "base_uri": "https://localhost:8080/"
        },
        "outputId": "ec1f3f2f-6814-408d-8741-9e0164bb89bd"
      },
      "source": [
        "converter = tf.lite.TFLiteConverter.from_keras_model(pruned_model)\n",
        "converter.experimental_new_converter = True\n",
        "\n",
        "cnn_pruned_model_tflite = converter.convert()\n",
        "\n",
        "cnn_pruned_tflite_file = 'cnn_pruned_model.tflite'\n",
        "\n",
        "with open(cnn_pruned_tflite_file, 'wb') as f:\n",
        "  f.write(cnn_pruned_model_tflite)\n",
        "\n",
        "print('Saved CNN TFLite model to:', cnn_pruned_tflite_file)\n",
        "\n",
        "\n",
        "interpreter=tf.lite.Interpreter(model_content=cnn_pruned_model_tflite)\n",
        "interpreter.allocate_tensors()\n",
        "\n",
        "cnn_tflite_accuracy = evaluate_model(interpreter)\n",
        "\n",
        "print('Base TFLite test_accuracy:', cnn_tflite_accuracy)"
      ],
      "execution_count": null,
      "outputs": [
        {
          "output_type": "stream",
          "text": [
            "WARNING:tensorflow:Compiled the loaded model, but the compiled metrics have yet to be built. `model.compile_metrics` will be empty until you train or evaluate the model.\n"
          ],
          "name": "stdout"
        },
        {
          "output_type": "stream",
          "text": [
            "WARNING:tensorflow:Compiled the loaded model, but the compiled metrics have yet to be built. `model.compile_metrics` will be empty until you train or evaluate the model.\n"
          ],
          "name": "stderr"
        },
        {
          "output_type": "stream",
          "text": [
            "INFO:tensorflow:Assets written to: /tmp/tmp56c6leoo/assets\n"
          ],
          "name": "stdout"
        },
        {
          "output_type": "stream",
          "text": [
            "INFO:tensorflow:Assets written to: /tmp/tmp56c6leoo/assets\n"
          ],
          "name": "stderr"
        },
        {
          "output_type": "stream",
          "text": [
            "Saved CNN TFLite model to: cnn_pruned_model.tflite\n",
            "[{'name': 'input_1', 'index': 0, 'shape': array([  1, 128,   9], dtype=int32), 'shape_signature': array([ -1, 128,   9], dtype=int32), 'dtype': <class 'numpy.float32'>, 'quantization': (0.0, 0), 'quantization_parameters': {'scales': array([], dtype=float32), 'zero_points': array([], dtype=int32), 'quantized_dimension': 0}, 'sparsity_parameters': {}}]\n",
            "[{'name': 'Identity', 'index': 36, 'shape': array([1, 6], dtype=int32), 'shape_signature': array([-1,  6], dtype=int32), 'dtype': <class 'numpy.float32'>, 'quantization': (0.0, 0), 'quantization_parameters': {'scales': array([], dtype=float32), 'zero_points': array([], dtype=int32), 'quantized_dimension': 0}, 'sparsity_parameters': {}}]\n",
            "== Input details ==\n",
            "shape: [  1 128   9]\n",
            "type: <class 'numpy.float32'>\n",
            "type: 0\n",
            "\n",
            "== Output details ==\n",
            "shape: [1 6]\n",
            "type: <class 'numpy.float32'>\n",
            "type: 36\n",
            "(2947, 128, 9)\n",
            "\n",
            "\n",
            "(2947, 1)\n",
            "(2947, 6)\n",
            "Base TFLite test_accuracy: 93.85816084153376\n"
          ],
          "name": "stdout"
        }
      ]
    },
    {
      "cell_type": "code",
      "metadata": {
        "id": "w9fmZ-kwZZ7R",
        "colab": {
          "base_uri": "https://localhost:8080/"
        },
        "outputId": "6efcf2d1-423b-4acf-cfcc-c248be80f7cb"
      },
      "source": [
        "cnn_pruned_model_size=get_zipped_model_size(cnn_pruned_tflite_file)\n",
        "print(\" Size of quantized cnn model: {:.2f}MB\".format(cnn_pruned_model_size/1000))"
      ],
      "execution_count": null,
      "outputs": [
        {
          "output_type": "stream",
          "text": [
            " Size of quantized cnn model: 49.93MB\n"
          ],
          "name": "stdout"
        }
      ]
    },
    {
      "cell_type": "markdown",
      "metadata": {
        "id": "7Tk86APZctEL"
      },
      "source": [
        "#POST-TRIANING QUANTIZATION ON PRUNED CNN MODEL"
      ]
    },
    {
      "cell_type": "code",
      "metadata": {
        "id": "Qt6WNIrWcpEF",
        "colab": {
          "base_uri": "https://localhost:8080/"
        },
        "outputId": "8597b38d-4e85-4e17-d079-550ad1a51ad6"
      },
      "source": [
        "converter = tf.lite.TFLiteConverter.from_keras_model(pruned_model)\n",
        "converter.optimizations = [tf.lite.Optimize.DEFAULT]\n",
        "converter.target_spec.supported_types = [tf.float16]\n",
        "quantized_pruned_cnn_model = converter.convert()\n",
        "\n",
        "quantized_pruned_cnn_tflite_file = 'quantized_pruned_cnn_model.tflite'\n",
        "\n",
        "with open(quantized_pruned_cnn_tflite_file, 'wb') as f:\n",
        "  f.write(quantized_pruned_cnn_model)"
      ],
      "execution_count": null,
      "outputs": [
        {
          "output_type": "stream",
          "text": [
            "WARNING:tensorflow:Compiled the loaded model, but the compiled metrics have yet to be built. `model.compile_metrics` will be empty until you train or evaluate the model.\n"
          ],
          "name": "stdout"
        },
        {
          "output_type": "stream",
          "text": [
            "WARNING:tensorflow:Compiled the loaded model, but the compiled metrics have yet to be built. `model.compile_metrics` will be empty until you train or evaluate the model.\n"
          ],
          "name": "stderr"
        },
        {
          "output_type": "stream",
          "text": [
            "INFO:tensorflow:Assets written to: /tmp/tmpjz93ro80/assets\n"
          ],
          "name": "stdout"
        },
        {
          "output_type": "stream",
          "text": [
            "INFO:tensorflow:Assets written to: /tmp/tmpjz93ro80/assets\n"
          ],
          "name": "stderr"
        }
      ]
    },
    {
      "cell_type": "code",
      "metadata": {
        "id": "0MthAb9zdhIp",
        "colab": {
          "base_uri": "https://localhost:8080/"
        },
        "outputId": "438e0106-f7fd-492b-b0f9-0791196c30a9"
      },
      "source": [
        "quantized_pruned_cnn_model_size=get_zipped_model_size(quantized_pruned_cnn_tflite_file)\n",
        "print(\" Size of quantized cnn model: {:.2f}MB\".format(quantized_pruned_cnn_model_size/1000))"
      ],
      "execution_count": null,
      "outputs": [
        {
          "output_type": "stream",
          "text": [
            " Size of quantized cnn model: 30.55MB\n"
          ],
          "name": "stdout"
        }
      ]
    },
    {
      "cell_type": "code",
      "metadata": {
        "id": "MER7e23urqZY",
        "colab": {
          "base_uri": "https://localhost:8080/"
        },
        "outputId": "de34e2e9-816a-4983-9f36-6f79f6c7ed33"
      },
      "source": [
        "\n",
        "interpreter=tf.lite.Interpreter(model_content=quantized_pruned_cnn_model)\n",
        "interpreter.allocate_tensors()\n",
        "\n",
        "quantized_pruned_cnn_model_accuracy = evaluate_model(interpreter)\n",
        "\n",
        "print('Quantized and Pruned CNN TFLite test_accuracy:', quantized_pruned_cnn_model_accuracy)"
      ],
      "execution_count": null,
      "outputs": [
        {
          "output_type": "stream",
          "text": [
            "[{'name': 'input_1', 'index': 0, 'shape': array([  1, 128,   9], dtype=int32), 'shape_signature': array([ -1, 128,   9], dtype=int32), 'dtype': <class 'numpy.float32'>, 'quantization': (0.0, 0), 'quantization_parameters': {'scales': array([], dtype=float32), 'zero_points': array([], dtype=int32), 'quantized_dimension': 0}, 'sparsity_parameters': {}}]\n",
            "[{'name': 'Identity', 'index': 36, 'shape': array([1, 6], dtype=int32), 'shape_signature': array([-1,  6], dtype=int32), 'dtype': <class 'numpy.float32'>, 'quantization': (0.0, 0), 'quantization_parameters': {'scales': array([], dtype=float32), 'zero_points': array([], dtype=int32), 'quantized_dimension': 0}, 'sparsity_parameters': {}}]\n",
            "== Input details ==\n",
            "shape: [  1 128   9]\n",
            "type: <class 'numpy.float32'>\n",
            "type: 0\n",
            "\n",
            "== Output details ==\n",
            "shape: [1 6]\n",
            "type: <class 'numpy.float32'>\n",
            "type: 36\n",
            "(2947, 128, 9)\n",
            "\n",
            "\n",
            "(2947, 1)\n",
            "(2947, 6)\n",
            "Quantized and Pruned CNN TFLite test_accuracy: 93.85816084153376\n"
          ],
          "name": "stdout"
        }
      ]
    },
    {
      "cell_type": "code",
      "metadata": {
        "id": "DXd2B1T6yWfR",
        "colab": {
          "base_uri": "https://localhost:8080/",
          "height": 122
        },
        "outputId": "419939e1-1d5b-430a-9372-29e9444d7a69"
      },
      "source": [
        "import matplotlib.pyplot as plt\n",
        "\n",
        "\n",
        "\n",
        "size=[cnn_model_size/1000,quantized_cnn_model_size/1000,pruned_cnn_model_size/1000,quantized_pruned_cnn_model_size/1000]\n",
        "label=['cnn','quant_cnn_tflite','prune_cnn','quant_pruned_cnn']\n",
        "\n",
        "print(\"Size of gzipped baseline Keras model: %.2f KB\" % (cnn_model_size/1000))\n",
        "print(\"Size of gzipped quantized Keras tflite model: %.2f KB\" % (quantized_cnn_model_size/1000))\n",
        "print(\"Size of gzipped pruned Keras model: %.2f KB\" % (pruned_cnn_model_size/1000))\n",
        "print(\"Size of gzipped quantized and pruned TFlite model: %.2f KB\" % (quantized_pruned_cnn_model_size/1000))\n",
        "\n",
        "plt.bar(label,height=size)\n",
        "title_obj=plt.title('Size of baseline and pruned keras file')\n",
        "plt.setp(title_obj, color='w')\n",
        "plt.tick_params(axis='x', colors='white')\n",
        "plt.tick_params(axis='y', colors='white')\n",
        "plt.show()"
      ],
      "execution_count": null,
      "outputs": [
        {
          "output_type": "stream",
          "text": [
            "Size of gzipped baseline Keras model: 152.12 KB\n",
            "Size of gzipped quantized Keras tflite model: 76.15 KB\n",
            "Size of gzipped pruned Keras model: 52.30 KB\n",
            "Size of gzipped quantized and pruned TFlite model: 30.55 KB\n"
          ],
          "name": "stdout"
        },
        {
          "output_type": "display_data",
          "data": {
            "image/png": "[encoded data removed]",
            "text/plain": [
              "<Figure size 432x288 with 1 Axes>"
            ]
          },
          "metadata": {
            "tags": [],
            "needs_background": "dark"
          }
        }
      ]
    },
    {
      "cell_type": "code",
      "metadata": {
        "id": "868VAQgmzEDZ",
        "colab": {
          "base_uri": "https://localhost:8080/",
          "height": 122
        },
        "outputId": "d567a16a-cebb-4302-b06e-173ae34d1ded"
      },
      "source": [
        "model_accuracy=[score,cnn_tflite_accuracy,model_for_pruning_accuracy*100,quantized_pruned_cnn_model_accuracy]\n",
        "label=['keras_file','keras_tflite_file','pruned_keras_file','pruned_tflite_file']\n",
        "\n",
        "print(\"Accuracy baseline Keras model: %.2f bytes\" % (score))\n",
        "print(\"Accuracy Keras tflite model: %.2f bytes\" % (cnn_tflite_accuracy))\n",
        "print(\"Accuracy pruned Keras model: %.2f bytes\" % (model_for_pruning_accuracy*100))\n",
        "print(\"Accuracy pruned TFlite model: %.2f bytes\" % (quantized_pruned_cnn_model_accuracy))\n",
        "\n",
        "plt.bar(label,height=model_accuracy)\n",
        "title_obj=plt.title('Size of baseline and pruned keras file')\n",
        "plt.setp(title_obj, color='w')\n",
        "plt.tick_params(axis='x', colors='white')\n",
        "plt.tick_params(axis='y', colors='white')\n",
        "plt.show()"
      ],
      "execution_count": null,
      "outputs": [
        {
          "output_type": "stream",
          "text": [
            "Accuracy baseline Keras model: 92.53 bytes\n",
            "Accuracy Keras tflite model: 93.86 bytes\n",
            "Accuracy pruned Keras model: 93.86 bytes\n",
            "Accuracy pruned TFlite model: 93.86 bytes\n"
          ],
          "name": "stdout"
        },
        {
          "output_type": "display_data",
          "data": {
            "image/png": "[encoded data removed]",
            "text/plain": [
              "<Figure size 432x288 with 1 Axes>"
            ]
          },
          "metadata": {
            "tags": [],
            "needs_background": "dark"
          }
        }
      ]
    },
    {
      "cell_type": "code",
      "metadata": {
        "id": "ApGj7uWr6Ldy"
      },
      "source": [
        ""
      ],
      "execution_count": null,
      "outputs": []
    }
  ]
}