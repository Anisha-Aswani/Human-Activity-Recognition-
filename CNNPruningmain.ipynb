{
  "nbformat": 4,
  "nbformat_minor": 0,
  "metadata": {
    "colab": {
      "name": "CNNmain.ipynb",
      "provenance": [],
      "collapsed_sections": []
    },
    "kernelspec": {
      "name": "python3",
      "display_name": "Python 3"
    },
    "accelerator": "GPU"
  },
  "cells": [
    {
      "cell_type": "markdown",
      "metadata": {
        "id": "1miUoB4oiUak"
      },
      "source": [
        "#Importing Functions"
      ]
    },
    {
      "cell_type": "code",
      "metadata": {
        "id": "Gm_qOCm9-7Ty"
      },
      "source": [
        "# Tensorflow version 2.4.1"
      ],
      "execution_count": null,
      "outputs": []
    },
    {
      "cell_type": "code",
      "metadata": {
        "id": "NPdC7ARm-96-"
      },
      "source": [
        "%tensorflow_version 2.x"
      ],
      "execution_count": 6,
      "outputs": []
    },
    {
      "cell_type": "code",
      "metadata": {
        "colab": {
          "base_uri": "https://localhost:8080/",
          "height": 35
        },
        "id": "rBmvausn-RDV",
        "outputId": "4f5ee37c-6cf7-4a33-ecb6-b1722fc8d550"
      },
      "source": [
        "import tensorflow\n",
        "tensorflow.__version__"
      ],
      "execution_count": 7,
      "outputs": [
        {
          "output_type": "execute_result",
          "data": {
            "application/vnd.google.colaboratory.intrinsic+json": {
              "type": "string"
            },
            "text/plain": [
              "'2.4.1'"
            ]
          },
          "metadata": {
            "tags": []
          },
          "execution_count": 7
        }
      ]
    },
    {
      "cell_type": "code",
      "metadata": {
        "id": "o_Hq0VUMvJx9"
      },
      "source": [
        "from numpy import mean\n",
        "from numpy import std\n",
        "from numpy import dstack\n",
        "from pandas import read_csv\n",
        "from scipy import ndimage\n",
        "import numpy as np\n",
        "from matplotlib import pyplot as plt\n",
        "from keras.models import Sequential\n",
        "from keras.layers import Dense\n",
        "from keras.layers import Flatten\n",
        "from keras.layers import Dropout\n",
        "from keras.layers.convolutional import Conv1D,Conv2D\n",
        "from keras.layers.convolutional import MaxPooling1D,MaxPooling2D\n",
        "from keras.layers import BatchNormalization,ReLU,GlobalAveragePooling1D,MaxPooling1D,LSTM,TimeDistributed,GlobalAveragePooling2D\n",
        "from keras.utils import to_categorical\n",
        "from keras.models import save_model, load_model\n",
        "from sklearn.preprocessing import StandardScaler\n",
        "from keras.utils import to_categorical\n",
        "from tensorflow.keras.utils import  plot_model\n",
        "from keras.models import Model,save_model,load_model\n",
        "from keras.layers import Input\n",
        "from keras.layers.merge import concatenate\n",
        "\n",
        "from datetime import datetime\n",
        "from packaging import version\n",
        "\n",
        "import os\n",
        "import tempfile\n",
        "import os\n",
        "import tensorflow as tf\n",
        "from tensorflow import expand_dims\n",
        "from tensorflow import keras\n",
        "%load_ext tensorboard"
      ],
      "execution_count": 8,
      "outputs": []
    },
    {
      "cell_type": "code",
      "metadata": {
        "id": "p8tRrh2Q2gnB",
        "colab": {
          "base_uri": "https://localhost:8080/"
        },
        "outputId": "ee804e03-573f-4911-926a-40b1022473d6"
      },
      "source": [
        "!pip install -U tensorboard_plugin_profile"
      ],
      "execution_count": 9,
      "outputs": [
        {
          "output_type": "stream",
          "text": [
            "Collecting tensorboard_plugin_profile\n",
            "\u001b[?25l  Downloading https://files.pythonhosted.org/packages/d1/4e/0bf160776e5dacdba5105a580aa57a2bd37c1cc4faa1bd7695d82e7d6ae7/tensorboard_plugin_profile-2.4.0-py3-none-any.whl (1.2MB)\n",
            "\r\u001b[K     |▎                               | 10kB 22.3MB/s eta 0:00:01\r\u001b[K     |▋                               | 20kB 29.9MB/s eta 0:00:01\r\u001b[K     |▉                               | 30kB 24.8MB/s eta 0:00:01\r\u001b[K     |█▏                              | 40kB 28.1MB/s eta 0:00:01\r\u001b[K     |█▍                              | 51kB 25.7MB/s eta 0:00:01\r\u001b[K     |█▊                              | 61kB 28.2MB/s eta 0:00:01\r\u001b[K     |██                              | 71kB 18.6MB/s eta 0:00:01\r\u001b[K     |██▎                             | 81kB 19.4MB/s eta 0:00:01\r\u001b[K     |██▌                             | 92kB 18.4MB/s eta 0:00:01\r\u001b[K     |██▉                             | 102kB 18.3MB/s eta 0:00:01\r\u001b[K     |███▏                            | 112kB 18.3MB/s eta 0:00:01\r\u001b[K     |███▍                            | 122kB 18.3MB/s eta 0:00:01\r\u001b[K     |███▊                            | 133kB 18.3MB/s eta 0:00:01\r\u001b[K     |████                            | 143kB 18.3MB/s eta 0:00:01\r\u001b[K     |████▎                           | 153kB 18.3MB/s eta 0:00:01\r\u001b[K     |████▌                           | 163kB 18.3MB/s eta 0:00:01\r\u001b[K     |████▉                           | 174kB 18.3MB/s eta 0:00:01\r\u001b[K     |█████                           | 184kB 18.3MB/s eta 0:00:01\r\u001b[K     |█████▍                          | 194kB 18.3MB/s eta 0:00:01\r\u001b[K     |█████▊                          | 204kB 18.3MB/s eta 0:00:01\r\u001b[K     |██████                          | 215kB 18.3MB/s eta 0:00:01\r\u001b[K     |██████▎                         | 225kB 18.3MB/s eta 0:00:01\r\u001b[K     |██████▌                         | 235kB 18.3MB/s eta 0:00:01\r\u001b[K     |██████▉                         | 245kB 18.3MB/s eta 0:00:01\r\u001b[K     |███████                         | 256kB 18.3MB/s eta 0:00:01\r\u001b[K     |███████▍                        | 266kB 18.3MB/s eta 0:00:01\r\u001b[K     |███████▋                        | 276kB 18.3MB/s eta 0:00:01\r\u001b[K     |████████                        | 286kB 18.3MB/s eta 0:00:01\r\u001b[K     |████████▎                       | 296kB 18.3MB/s eta 0:00:01\r\u001b[K     |████████▌                       | 307kB 18.3MB/s eta 0:00:01\r\u001b[K     |████████▉                       | 317kB 18.3MB/s eta 0:00:01\r\u001b[K     |█████████                       | 327kB 18.3MB/s eta 0:00:01\r\u001b[K     |█████████▍                      | 337kB 18.3MB/s eta 0:00:01\r\u001b[K     |█████████▋                      | 348kB 18.3MB/s eta 0:00:01\r\u001b[K     |██████████                      | 358kB 18.3MB/s eta 0:00:01\r\u001b[K     |██████████▏                     | 368kB 18.3MB/s eta 0:00:01\r\u001b[K     |██████████▌                     | 378kB 18.3MB/s eta 0:00:01\r\u001b[K     |██████████▊                     | 389kB 18.3MB/s eta 0:00:01\r\u001b[K     |███████████                     | 399kB 18.3MB/s eta 0:00:01\r\u001b[K     |███████████▍                    | 409kB 18.3MB/s eta 0:00:01\r\u001b[K     |███████████▋                    | 419kB 18.3MB/s eta 0:00:01\r\u001b[K     |████████████                    | 430kB 18.3MB/s eta 0:00:01\r\u001b[K     |████████████▏                   | 440kB 18.3MB/s eta 0:00:01\r\u001b[K     |████████████▌                   | 450kB 18.3MB/s eta 0:00:01\r\u001b[K     |████████████▊                   | 460kB 18.3MB/s eta 0:00:01\r\u001b[K     |█████████████                   | 471kB 18.3MB/s eta 0:00:01\r\u001b[K     |█████████████▎                  | 481kB 18.3MB/s eta 0:00:01\r\u001b[K     |█████████████▋                  | 491kB 18.3MB/s eta 0:00:01\r\u001b[K     |██████████████                  | 501kB 18.3MB/s eta 0:00:01\r\u001b[K     |██████████████▏                 | 512kB 18.3MB/s eta 0:00:01\r\u001b[K     |██████████████▌                 | 522kB 18.3MB/s eta 0:00:01\r\u001b[K     |██████████████▊                 | 532kB 18.3MB/s eta 0:00:01\r\u001b[K     |███████████████                 | 542kB 18.3MB/s eta 0:00:01\r\u001b[K     |███████████████▎                | 552kB 18.3MB/s eta 0:00:01\r\u001b[K     |███████████████▋                | 563kB 18.3MB/s eta 0:00:01\r\u001b[K     |███████████████▉                | 573kB 18.3MB/s eta 0:00:01\r\u001b[K     |████████████████▏               | 583kB 18.3MB/s eta 0:00:01\r\u001b[K     |████████████████▌               | 593kB 18.3MB/s eta 0:00:01\r\u001b[K     |████████████████▊               | 604kB 18.3MB/s eta 0:00:01\r\u001b[K     |█████████████████               | 614kB 18.3MB/s eta 0:00:01\r\u001b[K     |█████████████████▎              | 624kB 18.3MB/s eta 0:00:01\r\u001b[K     |█████████████████▋              | 634kB 18.3MB/s eta 0:00:01\r\u001b[K     |█████████████████▉              | 645kB 18.3MB/s eta 0:00:01\r\u001b[K     |██████████████████▏             | 655kB 18.3MB/s eta 0:00:01\r\u001b[K     |██████████████████▍             | 665kB 18.3MB/s eta 0:00:01\r\u001b[K     |██████████████████▊             | 675kB 18.3MB/s eta 0:00:01\r\u001b[K     |███████████████████             | 686kB 18.3MB/s eta 0:00:01\r\u001b[K     |███████████████████▎            | 696kB 18.3MB/s eta 0:00:01\r\u001b[K     |███████████████████▋            | 706kB 18.3MB/s eta 0:00:01\r\u001b[K     |███████████████████▉            | 716kB 18.3MB/s eta 0:00:01\r\u001b[K     |████████████████████▏           | 727kB 18.3MB/s eta 0:00:01\r\u001b[K     |████████████████████▍           | 737kB 18.3MB/s eta 0:00:01\r\u001b[K     |████████████████████▊           | 747kB 18.3MB/s eta 0:00:01\r\u001b[K     |█████████████████████           | 757kB 18.3MB/s eta 0:00:01\r\u001b[K     |█████████████████████▎          | 768kB 18.3MB/s eta 0:00:01\r\u001b[K     |█████████████████████▌          | 778kB 18.3MB/s eta 0:00:01\r\u001b[K     |█████████████████████▉          | 788kB 18.3MB/s eta 0:00:01\r\u001b[K     |██████████████████████▏         | 798kB 18.3MB/s eta 0:00:01\r\u001b[K     |██████████████████████▍         | 808kB 18.3MB/s eta 0:00:01\r\u001b[K     |██████████████████████▊         | 819kB 18.3MB/s eta 0:00:01\r\u001b[K     |███████████████████████         | 829kB 18.3MB/s eta 0:00:01\r\u001b[K     |███████████████████████▎        | 839kB 18.3MB/s eta 0:00:01\r\u001b[K     |███████████████████████▌        | 849kB 18.3MB/s eta 0:00:01\r\u001b[K     |███████████████████████▉        | 860kB 18.3MB/s eta 0:00:01\r\u001b[K     |████████████████████████        | 870kB 18.3MB/s eta 0:00:01\r\u001b[K     |████████████████████████▍       | 880kB 18.3MB/s eta 0:00:01\r\u001b[K     |████████████████████████▊       | 890kB 18.3MB/s eta 0:00:01\r\u001b[K     |█████████████████████████       | 901kB 18.3MB/s eta 0:00:01\r\u001b[K     |█████████████████████████▎      | 911kB 18.3MB/s eta 0:00:01\r\u001b[K     |█████████████████████████▌      | 921kB 18.3MB/s eta 0:00:01\r\u001b[K     |█████████████████████████▉      | 931kB 18.3MB/s eta 0:00:01\r\u001b[K     |██████████████████████████      | 942kB 18.3MB/s eta 0:00:01\r\u001b[K     |██████████████████████████▍     | 952kB 18.3MB/s eta 0:00:01\r\u001b[K     |██████████████████████████▋     | 962kB 18.3MB/s eta 0:00:01\r\u001b[K     |███████████████████████████     | 972kB 18.3MB/s eta 0:00:01\r\u001b[K     |███████████████████████████▎    | 983kB 18.3MB/s eta 0:00:01\r\u001b[K     |███████████████████████████▌    | 993kB 18.3MB/s eta 0:00:01\r\u001b[K     |███████████████████████████▉    | 1.0MB 18.3MB/s eta 0:00:01\r\u001b[K     |████████████████████████████    | 1.0MB 18.3MB/s eta 0:00:01\r\u001b[K     |████████████████████████████▍   | 1.0MB 18.3MB/s eta 0:00:01\r\u001b[K     |████████████████████████████▋   | 1.0MB 18.3MB/s eta 0:00:01\r\u001b[K     |█████████████████████████████   | 1.0MB 18.3MB/s eta 0:00:01\r\u001b[K     |█████████████████████████████▏  | 1.1MB 18.3MB/s eta 0:00:01\r\u001b[K     |█████████████████████████████▌  | 1.1MB 18.3MB/s eta 0:00:01\r\u001b[K     |█████████████████████████████▉  | 1.1MB 18.3MB/s eta 0:00:01\r\u001b[K     |██████████████████████████████  | 1.1MB 18.3MB/s eta 0:00:01\r\u001b[K     |██████████████████████████████▍ | 1.1MB 18.3MB/s eta 0:00:01\r\u001b[K     |██████████████████████████████▋ | 1.1MB 18.3MB/s eta 0:00:01\r\u001b[K     |███████████████████████████████ | 1.1MB 18.3MB/s eta 0:00:01\r\u001b[K     |███████████████████████████████▏| 1.1MB 18.3MB/s eta 0:00:01\r\u001b[K     |███████████████████████████████▌| 1.1MB 18.3MB/s eta 0:00:01\r\u001b[K     |███████████████████████████████▊| 1.1MB 18.3MB/s eta 0:00:01\r\u001b[K     |████████████████████████████████| 1.2MB 18.3MB/s \n",
            "\u001b[?25hRequirement already satisfied, skipping upgrade: setuptools>=41.0.0 in /usr/local/lib/python3.7/dist-packages (from tensorboard_plugin_profile) (56.0.0)\n",
            "Requirement already satisfied, skipping upgrade: werkzeug>=0.11.15 in /usr/local/lib/python3.7/dist-packages (from tensorboard_plugin_profile) (1.0.1)\n",
            "Requirement already satisfied, skipping upgrade: protobuf>=3.6.0 in /usr/local/lib/python3.7/dist-packages (from tensorboard_plugin_profile) (3.12.4)\n",
            "Collecting gviz-api>=1.9.0\n",
            "  Downloading https://files.pythonhosted.org/packages/8c/8f/c6f16235a16b3dc4efdcf34dbc93b3b6f678b88176dbd6a36c75d678888f/gviz_api-1.9.0-py2.py3-none-any.whl\n",
            "Requirement already satisfied, skipping upgrade: six>=1.10.0 in /usr/local/lib/python3.7/dist-packages (from tensorboard_plugin_profile) (1.15.0)\n",
            "Installing collected packages: gviz-api, tensorboard-plugin-profile\n",
            "Successfully installed gviz-api-1.9.0 tensorboard-plugin-profile-2.4.0\n"
          ],
          "name": "stdout"
        }
      ]
    },
    {
      "cell_type": "markdown",
      "metadata": {
        "id": "INpMNpCdimZr"
      },
      "source": [
        "#Loading Dataset"
      ]
    },
    {
      "cell_type": "code",
      "metadata": {
        "colab": {
          "base_uri": "https://localhost:8080/"
        },
        "id": "4e2irnh55lB6",
        "outputId": "3e096673-d150-4486-b93e-a22ce8f0c80d"
      },
      "source": [
        "!wget https://archive.ics.uci.edu/ml/machine-learning-databases/00240/UCI%20HAR%20Dataset.zip\n",
        "import zipfile\n",
        "with zipfile.ZipFile('/content/UCI HAR Dataset.zip', 'r') as zip_ref:\n",
        "    zip_ref.extractall('')"
      ],
      "execution_count": 10,
      "outputs": [
        {
          "output_type": "stream",
          "text": [
            "--2021-04-28 19:37:46--  https://archive.ics.uci.edu/ml/machine-learning-databases/00240/UCI%20HAR%20Dataset.zip\n",
            "Resolving archive.ics.uci.edu (archive.ics.uci.edu)... 128.195.10.252\n",
            "Connecting to archive.ics.uci.edu (archive.ics.uci.edu)|128.195.10.252|:443... connected.\n",
            "HTTP request sent, awaiting response... 200 OK\n",
            "Length: 60999314 (58M) [application/x-httpd-php]\n",
            "Saving to: ‘UCI HAR Dataset.zip’\n",
            "\n",
            "UCI HAR Dataset.zip 100%[===================>]  58.17M  32.2MB/s    in 1.8s    \n",
            "\n",
            "2021-04-28 19:37:48 (32.2 MB/s) - ‘UCI HAR Dataset.zip’ saved [60999314/60999314]\n",
            "\n"
          ],
          "name": "stdout"
        }
      ]
    },
    {
      "cell_type": "code",
      "metadata": {
        "id": "4vYcHaInEDoK"
      },
      "source": [
        "def load_file(filepath):\n",
        "  dataframe=read_csv(filepath,header=None,delim_whitespace=True)\n",
        "  return dataframe.values"
      ],
      "execution_count": 11,
      "outputs": []
    },
    {
      "cell_type": "code",
      "metadata": {
        "id": "r7akEplVIDyX"
      },
      "source": [
        "def load_group(filenames,prefix=''):\n",
        "  loaded=list()\n",
        "  for name in filenames:\n",
        "    data=load_file(prefix+name)\n",
        "    loaded.append(data)\n",
        "  loaded=dstack(loaded)\n",
        "  return loaded"
      ],
      "execution_count": 12,
      "outputs": []
    },
    {
      "cell_type": "code",
      "metadata": {
        "id": "cKHYErTsIYac"
      },
      "source": [
        "def load_dataset_group(group,prefix=''):\n",
        "  filepath=prefix+group+'/Inertial Signals/'\n",
        "  filenames=list()\n",
        "  filenames+=['total_acc_x_'+group+'.txt','total_acc_y_'+group+'.txt','total_acc_z_'+group+'.txt']\n",
        "  filenames+=['body_acc_x_'+group+'.txt','body_acc_y_'+group+'.txt','body_acc_z_'+group+'.txt']\n",
        "  filenames+=['body_gyro_x_'+group+'.txt','body_gyro_y_'+group+'.txt','body_gyro_z_'+group+'.txt']\n",
        "  X=load_group(filenames,filepath)\n",
        "  y=load_file(prefix+group+'/y_'+group+'.txt')\n",
        "  return (X,y)\n"
      ],
      "execution_count": 13,
      "outputs": []
    },
    {
      "cell_type": "code",
      "metadata": {
        "id": "SuWfdQHuJt9f"
      },
      "source": [
        "def load_dataset(prefix=''):\n",
        "  trainX,trainy=load_dataset_group('train',prefix+'UCI HAR Dataset/')\n",
        "  print(trainX.shape,trainy.shape)\n",
        "  testX,testy=load_dataset_group('test',prefix+'UCI HAR Dataset/')\n",
        "  print(testX.shape,testy.shape)\n",
        "  trainy=trainy-1\n",
        "  testy=testy-1\n",
        "  trainy=to_categorical(trainy)\n",
        "  testy=to_categorical(testy)\n",
        "  print(trainX.shape, trainy.shape, testX.shape, testy.shape)\n",
        "  return trainX, trainy, testX, testy"
      ],
      "execution_count": 14,
      "outputs": []
    },
    {
      "cell_type": "code",
      "metadata": {
        "id": "C8Mtbf_PSH87"
      },
      "source": [
        "def scale_data(trainX, testX):\n",
        "\t# remove overlap\n",
        "\tcut = int(trainX.shape[1] / 2)\n",
        "\tlongX = trainX[:, -cut:, :]\n",
        "\t# flatten windows\n",
        "\tlongX = longX.reshape((longX.shape[0] * longX.shape[1], longX.shape[2]))\n",
        "\t# flatten train and test\n",
        "\tflatTrainX = trainX.reshape((trainX.shape[0] * trainX.shape[1], trainX.shape[2]))\n",
        "\tflatTestX = testX.reshape((testX.shape[0] * testX.shape[1], testX.shape[2]))\n",
        "\t# standardize\n",
        "\n",
        "\ts = StandardScaler()\n",
        "\t\t# fit on training data\n",
        "\ts.fit(longX)\n",
        "\t\t# apply to training and test data\n",
        "\tlongX = s.transform(longX)\n",
        "\tflatTrainX = s.transform(flatTrainX)\n",
        "\tflatTestX = s.transform(flatTestX)\n",
        "\t# reshape\n",
        "\tflatTrainX = flatTrainX.reshape((trainX.shape))\n",
        "\tflatTestX = flatTestX.reshape((testX.shape))\n",
        "\treturn flatTrainX, flatTestX"
      ],
      "execution_count": null,
      "outputs": []
    },
    {
      "cell_type": "markdown",
      "metadata": {
        "id": "2dow8qJO4myQ"
      },
      "source": [
        "##Function for model size"
      ]
    },
    {
      "cell_type": "code",
      "metadata": {
        "id": "ytB8g1p74mEU"
      },
      "source": [
        "def get_zipped_model_size(file):\n",
        "  # Returns size of gzipped model, in bytes.\n",
        "  import os\n",
        "  import zipfile\n",
        "\n",
        "  zipped_file = file+'.zip'\n",
        "  with zipfile.ZipFile(zipped_file, 'w', compression=zipfile.ZIP_DEFLATED) as f:\n",
        "    f.write(file)\n",
        "\n",
        "  return os.path.getsize(zipped_file)"
      ],
      "execution_count": null,
      "outputs": []
    },
    {
      "cell_type": "markdown",
      "metadata": {
        "id": "LOWuN0ZroUDR"
      },
      "source": [
        "##1. CNN MODEL\n"
      ]
    },
    {
      "cell_type": "code",
      "metadata": {
        "id": "N7BkQ1pYraEO",
        "colab": {
          "base_uri": "https://localhost:8080/"
        },
        "outputId": "45adfda4-32c7-44fe-cdaf-f49a002caaef"
      },
      "source": [
        "trainX,trainy,testX,testy=load_dataset()\n",
        "verbose,epochs,batch_size=1,500,32 #Epoch 500\n",
        "n_timesteps,n_features,n_outputs=trainX.shape[1],trainX.shape[2],trainy.shape[1]\n",
        "print('n step: ', n_timesteps)\n",
        "print('features: ',n_features)\n",
        "trainX,testX=scale_data(trainX,testX)\n",
        "print(trainX.shape)"
      ],
      "execution_count": null,
      "outputs": [
        {
          "output_type": "stream",
          "text": [
            "(7352, 128, 9) (7352, 1)\n",
            "(2947, 128, 9) (2947, 1)\n",
            "(7352, 128, 9) (7352, 6) (2947, 128, 9) (2947, 6)\n",
            "n step:  128\n",
            "features:  9\n",
            "(7352, 128, 9)\n"
          ],
          "name": "stdout"
        }
      ]
    },
    {
      "cell_type": "code",
      "metadata": {
        "id": "yciMN9WVMkpd"
      },
      "source": [
        "'''\n",
        "inputs=keras.Input(shape=(n_timesteps,n_features))\n",
        "\n",
        "\n",
        "conv_1=tf.keras.layers.Conv1D(filters=64,kernel_size=5,strides=2,activation='relu')(inputs)\n",
        "maxpool_1=tf.keras.layers.MaxPooling1D(pool_size=2,strides=2)(conv_1)\n",
        "\n",
        "conv_2=tf.keras.layers.Conv1D(filters=128,kernel_size=3,strides=1,activation='relu')(maxpool_1)\n",
        "maxpool_2=tf.keras.layers.MaxPooling1D(pool_size=2,strides=1)(conv_2)\n",
        "\n",
        "conv_3=tf.keras.layers.Conv1D(filters=32,kernel_size=3,strides=1,activation='relu')(maxpool_2)\n",
        "avg_pooling=tf.keras.layers.GlobalAveragePooling1D()(conv_3)\n",
        "batch_norm=tf.keras.layers.BatchNormalization()(avg_pooling)\n",
        "\n",
        "output=tf.keras.layers.Dense(n_outputs,activation='softmax')(batch_norm)\n",
        "model=tf.keras.Model(inputs=inputs,outputs=output)\n",
        "'''\n",
        "inputs=keras.Input(shape=(n_timesteps,n_features))\n",
        "\n",
        "\n",
        "conv_1=tf.keras.layers.Conv1D(filters=64,kernel_size=5,strides=2,activation='relu')(inputs)\n",
        "maxpool_1=tf.keras.layers.MaxPooling1D(pool_size=2,strides=2)(conv_1)\n",
        "\n",
        "conv_2=tf.keras.layers.Conv1D(filters=128,kernel_size=3,strides=1,activation='relu')(maxpool_1)\n",
        "maxpool_2=tf.keras.layers.MaxPooling1D(pool_size=2,strides=1)(conv_2)\n",
        "\n",
        "conv_3=tf.keras.layers.Conv1D(filters=32,kernel_size=3,strides=1,activation='relu')(maxpool_2)\n",
        "avg_pooling=tf.keras.layers.GlobalAveragePooling1D()(conv_3)\n",
        "batch_norm=tf.keras.layers.BatchNormalization()(avg_pooling)\n",
        "\n",
        "output=tf.keras.layers.Dense(n_outputs,activation='softmax')(batch_norm)\n",
        "model=tf.keras.Model(inputs=inputs,outputs=output)"
      ],
      "execution_count": null,
      "outputs": []
    },
    {
      "cell_type": "code",
      "metadata": {
        "id": "UEENq8DHseVI"
      },
      "source": [
        "plot_model(model, show_shapes=True, to_file='CNN_Model.png')\n",
        "model.compile(loss='categorical_crossentropy',optimizer='adam',metrics=['accuracy'])"
      ],
      "execution_count": null,
      "outputs": []
    },
    {
      "cell_type": "code",
      "metadata": {
        "id": "W2vsYhbK2tvT",
        "colab": {
          "base_uri": "https://localhost:8080/"
        },
        "outputId": "d9b84903-002b-400a-ee96-808778f46185"
      },
      "source": [
        "logs = \"logs/\" + datetime.now().strftime(\"%Y%m%d-%H%M%S\")\n",
        "\n",
        "tboard_callback = tf.keras.callbacks.TensorBoard(log_dir = logs,\n",
        "                                                 histogram_freq = 1,\n",
        "                                                 )\n",
        "\n",
        "model.fit(trainX,trainy,epochs=epochs,batch_size=batch_size,verbose=verbose,callbacks=[tboard_callback])\n",
        "model.summary()\n"
      ],
      "execution_count": null,
      "outputs": [
        {
          "output_type": "stream",
          "text": [
            "Epoch 1/5\n",
            "230/230 [==============================] - 5s 9ms/step - loss: 0.4289 - accuracy: 0.8808\n",
            "Epoch 2/5\n",
            "230/230 [==============================] - 2s 7ms/step - loss: 0.1187 - accuracy: 0.9570\n",
            "Epoch 3/5\n",
            "230/230 [==============================] - 2s 7ms/step - loss: 0.1091 - accuracy: 0.9561\n",
            "Epoch 4/5\n",
            "230/230 [==============================] - 2s 7ms/step - loss: 0.0970 - accuracy: 0.9603\n",
            "Epoch 5/5\n",
            "230/230 [==============================] - 2s 7ms/step - loss: 0.0849 - accuracy: 0.9665\n",
            "Model: \"model\"\n",
            "_________________________________________________________________\n",
            "Layer (type)                 Output Shape              Param #   \n",
            "=================================================================\n",
            "input_1 (InputLayer)         [(None, 128, 9)]          0         \n",
            "_________________________________________________________________\n",
            "conv1d (Conv1D)              (None, 62, 64)            2944      \n",
            "_________________________________________________________________\n",
            "max_pooling1d (MaxPooling1D) (None, 31, 64)            0         \n",
            "_________________________________________________________________\n",
            "conv1d_1 (Conv1D)            (None, 29, 128)           24704     \n",
            "_________________________________________________________________\n",
            "max_pooling1d_1 (MaxPooling1 (None, 28, 128)           0         \n",
            "_________________________________________________________________\n",
            "conv1d_2 (Conv1D)            (None, 26, 32)            12320     \n",
            "_________________________________________________________________\n",
            "global_average_pooling1d (Gl (None, 32)                0         \n",
            "_________________________________________________________________\n",
            "batch_normalization (BatchNo (None, 32)                128       \n",
            "_________________________________________________________________\n",
            "dense (Dense)                (None, 6)                 198       \n",
            "=================================================================\n",
            "Total params: 40,294\n",
            "Trainable params: 40,230\n",
            "Non-trainable params: 64\n",
            "_________________________________________________________________\n"
          ],
          "name": "stdout"
        }
      ]
    },
    {
      "cell_type": "markdown",
      "metadata": {
        "id": "1LlRSQSg5x-G"
      },
      "source": [
        "###CNN MODEL ACCURACY"
      ]
    },
    {
      "cell_type": "code",
      "metadata": {
        "id": "blVs1T8vtfQD",
        "colab": {
          "base_uri": "https://localhost:8080/"
        },
        "outputId": "f56c6594-9b6e-4b25-c09c-8088ee525ac1"
      },
      "source": [
        "%time\n",
        "print(testX.shape,testy.shape)\n",
        "base_loss,base_accuracy=model.evaluate(testX,testy,batch_size=batch_size,verbose=1)\n",
        "\n",
        "cnn_file='CNN_Model.h5'\n",
        "  \n",
        "tf.keras.models.save_model(model, cnn_file, include_optimizer=False)\n",
        "print('model saved at ', cnn_file)\n",
        "#score,keras_file=evaluate_model(trainX,trainy,testX,testy)\n",
        "score=base_accuracy*100\n",
        "print('>{:f}'.format(score))\n",
        "print('>{:.2f}'.format(base_loss))"
      ],
      "execution_count": null,
      "outputs": [
        {
          "output_type": "stream",
          "text": [
            "CPU times: user 2 µs, sys: 1 µs, total: 3 µs\n",
            "Wall time: 5.72 µs\n",
            "(2947, 128, 9) (2947, 6)\n",
            "93/93 [==============================] - 1s 4ms/step - loss: 0.1846 - accuracy: 0.9464\n",
            "model saved at  CNN_Model.h5\n",
            ">94.638616\n",
            ">0.18\n"
          ],
          "name": "stdout"
        }
      ]
    },
    {
      "cell_type": "markdown",
      "metadata": {
        "id": "Ls6bWax459OF"
      },
      "source": [
        "##CNN MODEL SIZE"
      ]
    },
    {
      "cell_type": "code",
      "metadata": {
        "id": "7nyxtXsQA1Xg",
        "colab": {
          "base_uri": "https://localhost:8080/"
        },
        "outputId": "8da05878-9a36-4b87-d185-1560bef406e3"
      },
      "source": [
        "%time\n",
        "predict=model.predict(testX)"
      ],
      "execution_count": null,
      "outputs": [
        {
          "output_type": "stream",
          "text": [
            "CPU times: user 2 µs, sys: 1e+03 ns, total: 3 µs\n",
            "Wall time: 6.2 µs\n"
          ],
          "name": "stdout"
        }
      ]
    },
    {
      "cell_type": "code",
      "metadata": {
        "id": "mzSgfywk3YX-",
        "colab": {
          "base_uri": "https://localhost:8080/"
        },
        "outputId": "2d6fc096-c415-4c3d-c60a-41a550137869"
      },
      "source": [
        "cnn_model_size=get_zipped_model_size(cnn_file)\n",
        "print(\" SIze of my cnn model: {:.2f}MB\".format(cnn_model_size/1000))"
      ],
      "execution_count": null,
      "outputs": [
        {
          "output_type": "stream",
          "text": [
            " SIze of my cnn model: 152.12MB\n"
          ],
          "name": "stdout"
        }
      ]
    },
    {
      "cell_type": "code",
      "metadata": {
        "id": "6fswY0LP6vdj",
        "colab": {
          "base_uri": "https://localhost:8080/"
        },
        "outputId": "c86aa51c-012c-48b8-fb30-806f98587140"
      },
      "source": [
        "\n",
        "model=keras.models.load_model('CNN_Model.h5')\n",
        "model.compile(loss='categorical_crossentropy',optimizer='adam',metrics=['accuracy'])\n",
        "base_loss,base_accuracy=model.evaluate(testX,testy,batch_size=batch_size,verbose=0)\n",
        "print(base_loss,base_accuracy)"
      ],
      "execution_count": null,
      "outputs": [
        {
          "output_type": "stream",
          "text": [
            "WARNING:tensorflow:No training configuration found in the save file, so the model was *not* compiled. Compile it manually.\n",
            "0.18462277948856354 0.9463861584663391\n"
          ],
          "name": "stdout"
        }
      ]
    },
    {
      "cell_type": "code",
      "metadata": {
        "id": "w0Vldri_p2iG",
        "colab": {
          "base_uri": "https://localhost:8080/"
        },
        "outputId": "30081431-3e65-4a16-e3d4-5ce5802b6202"
      },
      "source": [
        "!pip install tensorflow_model_optimization"
      ],
      "execution_count": null,
      "outputs": [
        {
          "output_type": "stream",
          "text": [
            "Collecting tensorflow_model_optimization\n",
            "\u001b[?25l  Downloading https://files.pythonhosted.org/packages/55/38/4fd48ea1bfcb0b6e36d949025200426fe9c3a8bfae029f0973d85518fa5a/tensorflow_model_optimization-0.5.0-py2.py3-none-any.whl (172kB)\n",
            "\r\u001b[K     |██                              | 10kB 12.5MB/s eta 0:00:01\r\u001b[K     |███▉                            | 20kB 17.8MB/s eta 0:00:01\r\u001b[K     |█████▊                          | 30kB 16.6MB/s eta 0:00:01\r\u001b[K     |███████▋                        | 40kB 14.9MB/s eta 0:00:01\r\u001b[K     |█████████▌                      | 51kB 10.4MB/s eta 0:00:01\r\u001b[K     |███████████▍                    | 61kB 9.1MB/s eta 0:00:01\r\u001b[K     |█████████████▎                  | 71kB 10.2MB/s eta 0:00:01\r\u001b[K     |███████████████▏                | 81kB 10.5MB/s eta 0:00:01\r\u001b[K     |█████████████████               | 92kB 10.1MB/s eta 0:00:01\r\u001b[K     |███████████████████             | 102kB 9.4MB/s eta 0:00:01\r\u001b[K     |████████████████████▉           | 112kB 9.4MB/s eta 0:00:01\r\u001b[K     |██████████████████████▊         | 122kB 9.4MB/s eta 0:00:01\r\u001b[K     |████████████████████████▊       | 133kB 9.4MB/s eta 0:00:01\r\u001b[K     |██████████████████████████▋     | 143kB 9.4MB/s eta 0:00:01\r\u001b[K     |████████████████████████████▌   | 153kB 9.4MB/s eta 0:00:01\r\u001b[K     |██████████████████████████████▍ | 163kB 9.4MB/s eta 0:00:01\r\u001b[K     |████████████████████████████████| 174kB 9.4MB/s \n",
            "\u001b[?25hRequirement already satisfied: dm-tree~=0.1.1 in /usr/local/lib/python3.7/dist-packages (from tensorflow_model_optimization) (0.1.6)\n",
            "Requirement already satisfied: six~=1.10 in /usr/local/lib/python3.7/dist-packages (from tensorflow_model_optimization) (1.15.0)\n",
            "Requirement already satisfied: numpy~=1.14 in /usr/local/lib/python3.7/dist-packages (from tensorflow_model_optimization) (1.19.5)\n",
            "Installing collected packages: tensorflow-model-optimization\n",
            "Successfully installed tensorflow-model-optimization-0.5.0\n"
          ],
          "name": "stdout"
        }
      ]
    },
    {
      "cell_type": "code",
      "metadata": {
        "id": "LL7ACLxHvVa_"
      },
      "source": [
        "import tensorflow_model_optimization as tfmot\n",
        "import numpy as np"
      ],
      "execution_count": null,
      "outputs": []
    },
    {
      "cell_type": "code",
      "metadata": {
        "id": "Kfjk8gd7Un-o"
      },
      "source": [
        "# %tensorboard --logdir={logdir}"
      ],
      "execution_count": null,
      "outputs": []
    },
    {
      "cell_type": "markdown",
      "metadata": {
        "id": "Sh4x5Etfq5_P"
      },
      "source": [
        "##Post-Training Quantization[FLOAT16] on CNN model (tflite model)\n"
      ]
    },
    {
      "cell_type": "code",
      "metadata": {
        "id": "5VrXvlcaQ2_F",
        "colab": {
          "base_uri": "https://localhost:8080/"
        },
        "outputId": "99642826-9400-4e48-e925-d224830880c9"
      },
      "source": [
        "converter = tf.lite.TFLiteConverter.from_keras_model(model)\n",
        "converter.optimizations = [tf.lite.Optimize.DEFAULT]\n",
        "converter.target_spec.supported_types = [tf.float16]\n",
        "quantized_cnn_model = converter.convert()\n",
        "\n",
        "quantized_cnn_tflite_file = 'quantized_cnn_model.tflite'\n",
        "\n",
        "with open(quantized_cnn_tflite_file, 'wb') as f:\n",
        "  f.write(quantized_cnn_model)"
      ],
      "execution_count": null,
      "outputs": [
        {
          "output_type": "stream",
          "text": [
            "INFO:tensorflow:Assets written to: /tmp/tmpt0wy049v/assets\n"
          ],
          "name": "stdout"
        }
      ]
    },
    {
      "cell_type": "markdown",
      "metadata": {
        "id": "xqIQvI6xRMmb"
      },
      "source": [
        "##Size of post-quantized CNN model"
      ]
    },
    {
      "cell_type": "code",
      "metadata": {
        "id": "xzdX8tOkRH8S",
        "colab": {
          "base_uri": "https://localhost:8080/"
        },
        "outputId": "b477c6f3-f0c5-4398-aa1b-4ca679bdff64"
      },
      "source": [
        "quantized_cnn_model_size=get_zipped_model_size(quantized_cnn_tflite_file)\n",
        "print(\" Size of quantized cnn model: {:.2f}MB\".format(quantized_cnn_model_size/1000))"
      ],
      "execution_count": null,
      "outputs": [
        {
          "output_type": "stream",
          "text": [
            " Size of quantized cnn model: 76.39MB\n"
          ],
          "name": "stdout"
        }
      ]
    },
    {
      "cell_type": "markdown",
      "metadata": {
        "id": "0pSN2jc8SRFM"
      },
      "source": [
        "##ACCURACY OF QUANTIZED MODEL"
      ]
    },
    {
      "cell_type": "code",
      "metadata": {
        "id": "vKylQdpqUhvw"
      },
      "source": [
        "def evaluate_model(interpreter):\n",
        "# Get input and output tensors.\n",
        "  input_details = interpreter.get_input_details()\n",
        "  output_details = interpreter.get_output_details()\n",
        "  print(input_details)\n",
        "  print(output_details)\n",
        "  print(\"== Input details ==\")\n",
        "  print(\"shape:\", input_details[0]['shape'])\n",
        "  print(\"type:\", input_details[0]['dtype'])\n",
        "  print(\"type:\", input_details[0]['index'])\n",
        "  print(\"\\n== Output details ==\")\n",
        "  print(\"shape:\", output_details[0]['shape'])\n",
        "  print(\"type:\", output_details[0]['dtype'])\n",
        "  print(\"type:\", output_details[0]['index'])\n",
        "\n",
        "\n",
        "\n",
        "  input_shape = input_details[0]['index']\n",
        "  output_shape = output_details[0]['index']\n",
        "\n",
        "  # Run predictions on every image in the \"test\" dataset.\n",
        "  prediction= []\n",
        "  print(testX.shape)\n",
        "  for i,test_data in enumerate(testX):\n",
        "    # Pre-processing: add batch dimension and convert to float32 to match with\n",
        "    # the model's input data format.\n",
        "\n",
        "    test_data = np.expand_dims(test_data, axis=0).astype(np.float32)\n",
        "  \n",
        "    interpreter.set_tensor(input_shape, test_data)\n",
        "\n",
        "    # Run inference.\n",
        "    interpreter.invoke()\n",
        "\n",
        "    # Post-processing: remove batch dimension and find the digit with highest\n",
        "    # probability.\n",
        "    output = interpreter.get_tensor(output_shape)\n",
        "    digit = np.argmax(output,axis=1)\n",
        "    prediction.append(digit)\n",
        "\n",
        "  # Compare prediction results with ground truth labels to calculate accuracy.\n",
        "  \n",
        "  print('\\n')\n",
        "  prediction=np.array(prediction)\n",
        "  print(prediction.shape)\n",
        "  print(testy.shape)\n",
        "  labels=np.argmax(testy,axis=-1)\n",
        "  accuracy_count=0\n",
        "  for i in range(len(prediction)):\n",
        "    \n",
        "    if(prediction[i]==labels[i]).any():\n",
        "      accuracy_count+=1\n",
        "  \n",
        "  accuracy=(accuracy_count/len(prediction))*100\n",
        "\n",
        "  return accuracy"
      ],
      "execution_count": null,
      "outputs": []
    },
    {
      "cell_type": "code",
      "metadata": {
        "id": "92lKFioJUovC",
        "colab": {
          "base_uri": "https://localhost:8080/"
        },
        "outputId": "0cce8fd8-263c-48b4-b8d8-44500de4296e"
      },
      "source": [
        "\n",
        "interpreter=tf.lite.Interpreter(model_content=quantized_cnn_model)\n",
        "interpreter.allocate_tensors()\n",
        "\n",
        "cnn_tflite_accuracy = evaluate_model(interpreter)\n",
        "\n",
        "print('Base TFLite test_accuracy:', cnn_tflite_accuracy)"
      ],
      "execution_count": null,
      "outputs": [
        {
          "output_type": "stream",
          "text": [
            "[{'name': 'input_1', 'index': 0, 'shape': array([  1, 128,   9], dtype=int32), 'shape_signature': array([ -1, 128,   9], dtype=int32), 'dtype': <class 'numpy.float32'>, 'quantization': (0.0, 0), 'quantization_parameters': {'scales': array([], dtype=float32), 'zero_points': array([], dtype=int32), 'quantized_dimension': 0}, 'sparsity_parameters': {}}]\n",
            "[{'name': 'Identity', 'index': 38, 'shape': array([1, 6], dtype=int32), 'shape_signature': array([-1,  6], dtype=int32), 'dtype': <class 'numpy.float32'>, 'quantization': (0.0, 0), 'quantization_parameters': {'scales': array([], dtype=float32), 'zero_points': array([], dtype=int32), 'quantized_dimension': 0}, 'sparsity_parameters': {}}]\n",
            "== Input details ==\n",
            "shape: [  1 128   9]\n",
            "type: <class 'numpy.float32'>\n",
            "type: 0\n",
            "\n",
            "== Output details ==\n",
            "shape: [1 6]\n",
            "type: <class 'numpy.float32'>\n",
            "type: 38\n",
            "(2947, 128, 9)\n",
            "\n",
            "\n",
            "(2947, 1)\n",
            "(2947, 6)\n",
            "Base TFLite test_accuracy: 94.63861554122836\n"
          ],
          "name": "stdout"
        }
      ]
    },
    {
      "cell_type": "markdown",
      "metadata": {
        "id": "YmAm-qN3k-ra"
      },
      "source": [
        "#ADD QUANTIZATION AWARE TRAINING"
      ]
    },
    {
      "cell_type": "markdown",
      "metadata": {
        "id": "XzzBGFp926_N"
      },
      "source": [
        "#2.PRUNING CNN MODEL"
      ]
    },
    {
      "cell_type": "code",
      "metadata": {
        "id": "N_cbkqwJqLty",
        "colab": {
          "base_uri": "https://localhost:8080/"
        },
        "outputId": "9d007de4-a808-4cf2-bce2-25d8c6dd6897"
      },
      "source": [
        "prune_low_mag=tfmot.sparsity.keras.prune_low_magnitude\n",
        "batch_size=32\n",
        "epoch=5\n",
        "validation_split=0.3\n",
        "\n",
        "num=trainX.shape[0]*(1-validation_split)\n",
        "end_step=np.ceil(num / batch_size).astype(np.int32) * epoch\n",
        "pruning_params={\n",
        "    'pruning_schedule':tfmot.sparsity.keras.PolynomialDecay\n",
        "    (initial_sparsity=0.2,\n",
        "     final_sparsity=0.8,\n",
        "     begin_step=0,\n",
        "     end_step=end_step)\n",
        "}\n",
        "\n",
        "pruned_model=prune_low_mag(model,**pruning_params)\n",
        "\n",
        "pruned_model.compile(optimizer='adam',loss=tf.keras.losses.CategoricalCrossentropy(from_logits=True),metrics=['accuracy'])\n",
        "\n",
        "pruned_model.summary()\n",
        "\n",
        "logdir = tempfile.mkdtemp()\n",
        "\n",
        "callbacks = [\n",
        "  tfmot.sparsity.keras.UpdatePruningStep(),\n",
        "  tfmot.sparsity.keras.PruningSummaries(log_dir=logdir),\n",
        "]\n",
        "\n",
        "pruned_model.fit(trainX, trainy,\n",
        "                  batch_size=batch_size, epochs=epoch, validation_split=validation_split,\n",
        "                  callbacks=callbacks)\n",
        "#Model accuracy\n",
        "model_for_pruning_loss, model_for_pruning_accuracy = pruned_model.evaluate(\n",
        "   testX, testy, verbose=0)\n",
        "print(model_for_pruning_loss,model_for_pruning_accuracy)"
      ],
      "execution_count": null,
      "outputs": [
        {
          "output_type": "stream",
          "text": [
            "/usr/local/lib/python3.7/dist-packages/tensorflow/python/keras/engine/base_layer.py:2281: UserWarning: `layer.add_variable` is deprecated and will be removed in a future version. Please use `layer.add_weight` method instead.\n",
            "  warnings.warn('`layer.add_variable` is deprecated and '\n"
          ],
          "name": "stderr"
        },
        {
          "output_type": "stream",
          "text": [
            "Model: \"model\"\n",
            "_________________________________________________________________\n",
            "Layer (type)                 Output Shape              Param #   \n",
            "=================================================================\n",
            "input_1 (InputLayer)         [(None, 128, 9)]          0         \n",
            "_________________________________________________________________\n",
            "prune_low_magnitude_conv1d ( (None, 62, 64)            5826      \n",
            "_________________________________________________________________\n",
            "prune_low_magnitude_max_pool (None, 31, 64)            1         \n",
            "_________________________________________________________________\n",
            "prune_low_magnitude_conv1d_1 (None, 29, 128)           49282     \n",
            "_________________________________________________________________\n",
            "prune_low_magnitude_max_pool (None, 28, 128)           1         \n",
            "_________________________________________________________________\n",
            "prune_low_magnitude_conv1d_2 (None, 26, 32)            24610     \n",
            "_________________________________________________________________\n",
            "prune_low_magnitude_global_a (None, 32)                1         \n",
            "_________________________________________________________________\n",
            "prune_low_magnitude_batch_no (None, 32)                129       \n",
            "_________________________________________________________________\n",
            "prune_low_magnitude_dense (P (None, 6)                 392       \n",
            "=================================================================\n",
            "Total params: 80,242\n",
            "Trainable params: 40,230\n",
            "Non-trainable params: 40,012\n",
            "_________________________________________________________________\n",
            "Epoch 1/5\n",
            "  6/161 [>.............................] - ETA: 25s - loss: 0.0658 - accuracy: 0.9707WARNING:tensorflow:Callback method `on_train_batch_begin` is slow compared to the batch time (batch time: 0.0134s vs `on_train_batch_begin` time: 0.0416s). Check your callbacks.\n"
          ],
          "name": "stdout"
        },
        {
          "output_type": "stream",
          "text": [
            "WARNING:tensorflow:Callback method `on_train_batch_begin` is slow compared to the batch time (batch time: 0.0134s vs `on_train_batch_begin` time: 0.0416s). Check your callbacks.\n"
          ],
          "name": "stderr"
        },
        {
          "output_type": "stream",
          "text": [
            "WARNING:tensorflow:Callback method `on_train_batch_end` is slow compared to the batch time (batch time: 0.0134s vs `on_train_batch_end` time: 0.0846s). Check your callbacks.\n"
          ],
          "name": "stdout"
        },
        {
          "output_type": "stream",
          "text": [
            "WARNING:tensorflow:Callback method `on_train_batch_end` is slow compared to the batch time (batch time: 0.0134s vs `on_train_batch_end` time: 0.0846s). Check your callbacks.\n"
          ],
          "name": "stderr"
        },
        {
          "output_type": "stream",
          "text": [
            "161/161 [==============================] - 8s 27ms/step - loss: 0.0758 - accuracy: 0.9675 - val_loss: 0.1249 - val_accuracy: 0.9637\n",
            "Epoch 2/5\n",
            "161/161 [==============================] - 3s 19ms/step - loss: 0.0760 - accuracy: 0.9654 - val_loss: 0.1657 - val_accuracy: 0.9456\n",
            "Epoch 3/5\n",
            "161/161 [==============================] - 3s 19ms/step - loss: 0.0827 - accuracy: 0.9692 - val_loss: 0.1352 - val_accuracy: 0.9506\n",
            "Epoch 4/5\n",
            "161/161 [==============================] - 3s 19ms/step - loss: 0.1001 - accuracy: 0.9571 - val_loss: 0.1406 - val_accuracy: 0.9624\n",
            "Epoch 5/5\n",
            "161/161 [==============================] - 3s 19ms/step - loss: 0.0697 - accuracy: 0.9740 - val_loss: 0.1340 - val_accuracy: 0.9615\n",
            "0.21185359358787537 0.9287410974502563\n"
          ],
          "name": "stdout"
        }
      ]
    },
    {
      "cell_type": "code",
      "metadata": {
        "id": "3PrKkYSYVSA7",
        "colab": {
          "base_uri": "https://localhost:8080/"
        },
        "outputId": "6cde5388-f581-4147-a2e3-2ebcc5f12299"
      },
      "source": [
        "#model size\n",
        "pruned_model = tfmot.sparsity.keras.strip_pruning(pruned_model)\n",
        "pruned_cnn_file = ('prune_cnn.h5')\n",
        "tf.keras.models.save_model(pruned_model, pruned_cnn_file, include_optimizer=False)\n",
        "print('Saved pruned Keras model to:', pruned_cnn_file)\n",
        "pruned_cnn_model_size=get_zipped_model_size(pruned_cnn_file)\n",
        "print(\" SIze of pruned cnn model: {:.2f}MB\".format(pruned_cnn_model_size/1000))"
      ],
      "execution_count": null,
      "outputs": [
        {
          "output_type": "stream",
          "text": [
            "Saved pruned Keras model to: prune_cnn.h5\n",
            " SIze of pruned cnn model: 51.99MB\n"
          ],
          "name": "stdout"
        }
      ]
    },
    {
      "cell_type": "markdown",
      "metadata": {
        "id": "P_sqlQtVY4-C"
      },
      "source": [
        "#CONVERTING PRUNED MODEL TO TFLITE "
      ]
    },
    {
      "cell_type": "code",
      "metadata": {
        "id": "kjiR99cpY4Pm",
        "colab": {
          "base_uri": "https://localhost:8080/"
        },
        "outputId": "27b1f367-c283-45db-e175-9933b52679a4"
      },
      "source": [
        "converter = tf.lite.TFLiteConverter.from_keras_model(pruned_model)\n",
        "converter.experimental_new_converter = True\n",
        "\n",
        "cnn_pruned_model_tflite = converter.convert()\n",
        "\n",
        "cnn_pruned_tflite_file = 'cnn_pruned_model.tflite'\n",
        "\n",
        "with open(cnn_pruned_tflite_file, 'wb') as f:\n",
        "  f.write(cnn_pruned_model_tflite)\n",
        "\n",
        "print('Saved CNN TFLite model to:', cnn_pruned_tflite_file)\n",
        "\n",
        "\n",
        "interpreter=tf.lite.Interpreter(model_content=cnn_pruned_model_tflite)\n",
        "interpreter.allocate_tensors()\n",
        "\n",
        "cnn_tflite_accuracy = evaluate_model(interpreter)\n",
        "\n",
        "print('Base TFLite test_accuracy:', cnn_tflite_accuracy)"
      ],
      "execution_count": null,
      "outputs": [
        {
          "output_type": "stream",
          "text": [
            "INFO:tensorflow:Assets written to: /tmp/tmpeuohu0jl/assets\n"
          ],
          "name": "stdout"
        },
        {
          "output_type": "stream",
          "text": [
            "INFO:tensorflow:Assets written to: /tmp/tmpeuohu0jl/assets\n"
          ],
          "name": "stderr"
        },
        {
          "output_type": "stream",
          "text": [
            "Saved CNN TFLite model to: cnn_pruned_model.tflite\n",
            "[{'name': 'input_1', 'index': 0, 'shape': array([  1, 128,   9], dtype=int32), 'shape_signature': array([ -1, 128,   9], dtype=int32), 'dtype': <class 'numpy.float32'>, 'quantization': (0.0, 0), 'quantization_parameters': {'scales': array([], dtype=float32), 'zero_points': array([], dtype=int32), 'quantized_dimension': 0}, 'sparsity_parameters': {}}]\n",
            "[{'name': 'Identity', 'index': 38, 'shape': array([1, 6], dtype=int32), 'shape_signature': array([-1,  6], dtype=int32), 'dtype': <class 'numpy.float32'>, 'quantization': (0.0, 0), 'quantization_parameters': {'scales': array([], dtype=float32), 'zero_points': array([], dtype=int32), 'quantized_dimension': 0}, 'sparsity_parameters': {}}]\n",
            "== Input details ==\n",
            "shape: [  1 128   9]\n",
            "type: <class 'numpy.float32'>\n",
            "type: 0\n",
            "\n",
            "== Output details ==\n",
            "shape: [1 6]\n",
            "type: <class 'numpy.float32'>\n",
            "type: 38\n",
            "(2947, 128, 9)\n",
            "\n",
            "\n",
            "(2947, 1)\n",
            "(2947, 6)\n",
            "Base TFLite test_accuracy: 92.87410926365796\n"
          ],
          "name": "stdout"
        }
      ]
    },
    {
      "cell_type": "code",
      "metadata": {
        "id": "w9fmZ-kwZZ7R",
        "colab": {
          "base_uri": "https://localhost:8080/"
        },
        "outputId": "1dc2d1f4-3e93-422e-c029-e277812e1a68"
      },
      "source": [
        "cnn_pruned_model_size=get_zipped_model_size(cnn_pruned_tflite_file)\n",
        "print(\" Size of quantized cnn model: {:.2f}MB\".format(cnn_pruned_model_size/1000))"
      ],
      "execution_count": null,
      "outputs": [
        {
          "output_type": "stream",
          "text": [
            " Size of quantized cnn model: 50.17MB\n"
          ],
          "name": "stdout"
        }
      ]
    },
    {
      "cell_type": "markdown",
      "metadata": {
        "id": "7Tk86APZctEL"
      },
      "source": [
        "#POST-TRIANING QUANTIZATION ON PRUNED CNN MODEL"
      ]
    },
    {
      "cell_type": "code",
      "metadata": {
        "id": "Qt6WNIrWcpEF",
        "colab": {
          "base_uri": "https://localhost:8080/"
        },
        "outputId": "4485ce2d-30c9-428a-c929-374b6052a2d9"
      },
      "source": [
        "converter = tf.lite.TFLiteConverter.from_keras_model(pruned_model)\n",
        "converter.optimizations = [tf.lite.Optimize.DEFAULT]\n",
        "converter.target_spec.supported_types = [tf.float16]\n",
        "quantized_pruned_cnn_model = converter.convert()\n",
        "\n",
        "quantized_pruned_cnn_tflite_file = 'quantized_pruned_cnn_model.tflite'\n",
        "\n",
        "with open(quantized_pruned_cnn_tflite_file, 'wb') as f:\n",
        "  f.write(quantized_pruned_cnn_model)"
      ],
      "execution_count": null,
      "outputs": [
        {
          "output_type": "stream",
          "text": [
            "INFO:tensorflow:Assets written to: /tmp/tmp69jzqheb/assets\n"
          ],
          "name": "stdout"
        },
        {
          "output_type": "stream",
          "text": [
            "INFO:tensorflow:Assets written to: /tmp/tmp69jzqheb/assets\n"
          ],
          "name": "stderr"
        }
      ]
    },
    {
      "cell_type": "code",
      "metadata": {
        "id": "0MthAb9zdhIp",
        "colab": {
          "base_uri": "https://localhost:8080/"
        },
        "outputId": "a4066f9a-ccfa-4b2c-9f63-513becbe9079"
      },
      "source": [
        "quantized_pruned_cnn_model_size=get_zipped_model_size(quantized_pruned_cnn_tflite_file)\n",
        "print(\" Size of quantized cnn model: {:.2f}MB\".format(quantized_pruned_cnn_model_size/1000))"
      ],
      "execution_count": null,
      "outputs": [
        {
          "output_type": "stream",
          "text": [
            " Size of quantized cnn model: 30.79MB\n"
          ],
          "name": "stdout"
        }
      ]
    },
    {
      "cell_type": "code",
      "metadata": {
        "id": "MER7e23urqZY",
        "colab": {
          "base_uri": "https://localhost:8080/"
        },
        "outputId": "6ef5fe32-864a-484c-d261-98c085bef9d9"
      },
      "source": [
        "\n",
        "interpreter=tf.lite.Interpreter(model_content=quantized_pruned_cnn_model)\n",
        "interpreter.allocate_tensors()\n",
        "\n",
        "quantized_pruned_cnn_model_accuracy = evaluate_model(interpreter)\n",
        "\n",
        "print('Quantized and Pruned CNN TFLite test_accuracy:', quantized_pruned_cnn_model_accuracy)"
      ],
      "execution_count": null,
      "outputs": [
        {
          "output_type": "stream",
          "text": [
            "[{'name': 'input_1', 'index': 0, 'shape': array([  1, 128,   9], dtype=int32), 'shape_signature': array([ -1, 128,   9], dtype=int32), 'dtype': <class 'numpy.float32'>, 'quantization': (0.0, 0), 'quantization_parameters': {'scales': array([], dtype=float32), 'zero_points': array([], dtype=int32), 'quantized_dimension': 0}, 'sparsity_parameters': {}}]\n",
            "[{'name': 'Identity', 'index': 38, 'shape': array([1, 6], dtype=int32), 'shape_signature': array([-1,  6], dtype=int32), 'dtype': <class 'numpy.float32'>, 'quantization': (0.0, 0), 'quantization_parameters': {'scales': array([], dtype=float32), 'zero_points': array([], dtype=int32), 'quantized_dimension': 0}, 'sparsity_parameters': {}}]\n",
            "== Input details ==\n",
            "shape: [  1 128   9]\n",
            "type: <class 'numpy.float32'>\n",
            "type: 0\n",
            "\n",
            "== Output details ==\n",
            "shape: [1 6]\n",
            "type: <class 'numpy.float32'>\n",
            "type: 38\n",
            "(2947, 128, 9)\n",
            "\n",
            "\n",
            "(2947, 1)\n",
            "(2947, 6)\n",
            "Quantized and Pruned CNN TFLite test_accuracy: 92.87410926365796\n"
          ],
          "name": "stdout"
        }
      ]
    },
    {
      "cell_type": "code",
      "metadata": {
        "id": "DXd2B1T6yWfR",
        "colab": {
          "base_uri": "https://localhost:8080/",
          "height": 350
        },
        "outputId": "10815991-cf59-4f86-efb3-11b16ef69c9f"
      },
      "source": [
        "import matplotlib.pyplot as plt\n",
        "\n",
        "\n",
        "\n",
        "size=[cnn_model_size/1000,quantized_cnn_model_size/1000,pruned_cnn_model_size/1000,quantized_pruned_cnn_model_size/1000]\n",
        "label=['cnn','quant_cnn_tflite','prune_cnn','quant_pruned_cnn']\n",
        "\n",
        "print(\"Size of gzipped baseline Keras model: %.2f KB\" % (cnn_model_size/1000))\n",
        "print(\"Size of gzipped quantized Keras tflite model: %.2f KB\" % (quantized_cnn_model_size/1000))\n",
        "print(\"Size of gzipped pruned Keras model: %.2f KB\" % (pruned_cnn_model_size/1000))\n",
        "print(\"Size of gzipped quantized and pruned TFlite model: %.2f KB\" % (quantized_pruned_cnn_model_size/1000))\n",
        "\n",
        "plt.bar(label,height=size)\n",
        "title_obj=plt.title('Size of baseline and pruned keras file')\n",
        "plt.setp(title_obj, color='w')\n",
        "plt.tick_params(axis='x', colors='white')\n",
        "plt.tick_params(axis='y', colors='white')\n",
        "plt.show()"
      ],
      "execution_count": null,
      "outputs": [
        {
          "output_type": "stream",
          "text": [
            "Size of gzipped baseline Keras model: 152.12 KB\n",
            "Size of gzipped quantized Keras tflite model: 76.39 KB\n",
            "Size of gzipped pruned Keras model: 51.99 KB\n",
            "Size of gzipped quantized and pruned TFlite model: 30.79 KB\n"
          ],
          "name": "stdout"
        },
        {
          "output_type": "display_data",
          "data": {
            "image/png": "[encoded data removed]",
            "text/plain": [
              "<Figure size 432x288 with 1 Axes>"
            ]
          },
          "metadata": {
            "tags": [],
            "needs_background": "dark"
          }
        }
      ]
    },
    {
      "cell_type": "code",
      "metadata": {
        "id": "868VAQgmzEDZ",
        "colab": {
          "base_uri": "https://localhost:8080/",
          "height": 350
        },
        "outputId": "d30368c1-ea14-498c-ffa8-9a942c29b4d8"
      },
      "source": [
        "model_accuracy=[score,cnn_tflite_accuracy,model_for_pruning_accuracy*100,quantized_pruned_cnn_model_accuracy]\n",
        "label=['keras_file','keras_tflite_file','pruned_keras_file','pruned_tflite_file']\n",
        "\n",
        "print(\"Accuracy baseline Keras model: %.2f bytes\" % (score))\n",
        "print(\"Accuracy Keras tflite model: %.2f bytes\" % (cnn_tflite_accuracy))\n",
        "print(\"Accuracy pruned Keras model: %.2f bytes\" % (model_for_pruning_accuracy*100))\n",
        "print(\"Accuracy pruned TFlite model: %.2f bytes\" % (quantized_pruned_cnn_model_accuracy))\n",
        "\n",
        "plt.bar(label,height=model_accuracy)\n",
        "title_obj=plt.title('Size of baseline and pruned keras file')\n",
        "plt.setp(title_obj, color='w')\n",
        "plt.tick_params(axis='x', colors='white')\n",
        "plt.tick_params(axis='y', colors='white')\n",
        "plt.show()"
      ],
      "execution_count": null,
      "outputs": [
        {
          "output_type": "stream",
          "text": [
            "Accuracy baseline Keras model: 94.64 bytes\n",
            "Accuracy Keras tflite model: 92.87 bytes\n",
            "Accuracy pruned Keras model: 92.87 bytes\n",
            "Accuracy pruned TFlite model: 92.87 bytes\n"
          ],
          "name": "stdout"
        },
        {
          "output_type": "display_data",
          "data": {
            "image/png": "[encoded data removed]",
            "text/plain": [
              "<Figure size 432x288 with 1 Axes>"
            ]
          },
          "metadata": {
            "tags": [],
            "needs_background": "dark"
          }
        }
      ]
    },
    {
      "cell_type": "code",
      "metadata": {
        "id": "ApGj7uWr6Ldy"
      },
      "source": [
        ""
      ],
      "execution_count": null,
      "outputs": []
    }
  ]
}